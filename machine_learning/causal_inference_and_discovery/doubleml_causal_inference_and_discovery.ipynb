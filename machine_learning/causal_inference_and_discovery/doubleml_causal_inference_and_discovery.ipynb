{
  "nbformat": 4,
  "nbformat_minor": 0,
  "metadata": {
    "colab": {
      "provenance": []
    },
    "kernelspec": {
      "name": "python3",
      "display_name": "Python 3"
    },
    "language_info": {
      "name": "python"
    }
  },
  "cells": [
    {
      "cell_type": "markdown",
      "source": [
        "# Causal inference & discovery\n",
        "\n",
        "Example based on:\n",
        "\n",
        "Molak, A. Causal inference and discovery in Python: machine learning and Pearlian perspective: unlock the secrets of modern causal machine learning with DoWhy, EconML, PyTorch and more. (No Title)."
      ],
      "metadata": {
        "id": "qP-97GZECCUX"
      }
    },
    {
      "cell_type": "code",
      "source": [
        "!pip install dowhy\n",
        "!pip install gcastle\n",
        "!pip install econml\n",
        "!pip install shap"
      ],
      "metadata": {
        "id": "inPFVEoACBlw"
      },
      "execution_count": null,
      "outputs": []
    },
    {
      "cell_type": "code",
      "source": [
        "import numpy as np\n",
        "import pandas as pd\n",
        "import statsmodels.api as sm\n",
        "from dowhy import CausalModel\n",
        "from sklearn.linear_model import LassoCV\n",
        "from sklearn.ensemble import GradientBoostingRegressor\n",
        "from IPython.display import clear_output"
      ],
      "metadata": {
        "id": "3DbugQbxQaJY"
      },
      "execution_count": 2,
      "outputs": []
    },
    {
      "cell_type": "code",
      "source": [
        "np.random.seed(0)"
      ],
      "metadata": {
        "id": "UbiJMI__A3wy"
      },
      "execution_count": 8,
      "outputs": []
    },
    {
      "cell_type": "markdown",
      "source": [
        "# 1. Synthetic generation"
      ],
      "metadata": {
        "id": "U_eU904wADXZ"
      }
    },
    {
      "cell_type": "code",
      "source": [
        "# Target: Y\n",
        "# Treatment: X\n",
        "\n",
        "SAMPLE_SIZE = 1000\n",
        "S = np.random.random(SAMPLE_SIZE)\n",
        "Q = 0.2*S + 0.67*np.random.random(SAMPLE_SIZE)\n",
        "X = 0.14*Q + 0.4*np.random.random(SAMPLE_SIZE)\n",
        "Y = 0.7*X + 0.11*Q + 0.32*S + 0.24*np.random.random(SAMPLE_SIZE)\n",
        "P = 0.43*X + 0.21*Y + 0.22*np.random.random(SAMPLE_SIZE)\n",
        "df = pd.DataFrame(\n",
        "    {\n",
        "        'S': S,\n",
        "        'Q': Q,\n",
        "        'X': X,\n",
        "        'Y': Y,\n",
        "        'P': P,\n",
        "    }\n",
        "    )\n",
        "df.head(5)"
      ],
      "metadata": {
        "id": "Gn0x9QeaQaL4",
        "colab": {
          "base_uri": "https://localhost:8080/",
          "height": 206
        },
        "outputId": "c04bee21-2db4-464b-904c-393690e55c1d"
      },
      "execution_count": 4,
      "outputs": [
        {
          "output_type": "execute_result",
          "data": {
            "text/plain": [
              "          S         Q         X         Y         P\n",
              "0  0.548814  0.506992  0.395586  0.607651  0.362090\n",
              "1  0.715189  0.149781  0.211403  0.544427  0.329867\n",
              "2  0.602763  0.439356  0.270772  0.617614  0.276362\n",
              "3  0.544883  0.583853  0.181948  0.570324  0.274942\n",
              "4  0.423655  0.114194  0.258004  0.524673  0.232831"
            ],
            "text/html": [
              "\n",
              "  <div id=\"df-c198dd89-ab32-4cb7-a1c2-393515ee5dde\" class=\"colab-df-container\">\n",
              "    <div>\n",
              "<style scoped>\n",
              "    .dataframe tbody tr th:only-of-type {\n",
              "        vertical-align: middle;\n",
              "    }\n",
              "\n",
              "    .dataframe tbody tr th {\n",
              "        vertical-align: top;\n",
              "    }\n",
              "\n",
              "    .dataframe thead th {\n",
              "        text-align: right;\n",
              "    }\n",
              "</style>\n",
              "<table border=\"1\" class=\"dataframe\">\n",
              "  <thead>\n",
              "    <tr style=\"text-align: right;\">\n",
              "      <th></th>\n",
              "      <th>S</th>\n",
              "      <th>Q</th>\n",
              "      <th>X</th>\n",
              "      <th>Y</th>\n",
              "      <th>P</th>\n",
              "    </tr>\n",
              "  </thead>\n",
              "  <tbody>\n",
              "    <tr>\n",
              "      <th>0</th>\n",
              "      <td>0.548814</td>\n",
              "      <td>0.506992</td>\n",
              "      <td>0.395586</td>\n",
              "      <td>0.607651</td>\n",
              "      <td>0.362090</td>\n",
              "    </tr>\n",
              "    <tr>\n",
              "      <th>1</th>\n",
              "      <td>0.715189</td>\n",
              "      <td>0.149781</td>\n",
              "      <td>0.211403</td>\n",
              "      <td>0.544427</td>\n",
              "      <td>0.329867</td>\n",
              "    </tr>\n",
              "    <tr>\n",
              "      <th>2</th>\n",
              "      <td>0.602763</td>\n",
              "      <td>0.439356</td>\n",
              "      <td>0.270772</td>\n",
              "      <td>0.617614</td>\n",
              "      <td>0.276362</td>\n",
              "    </tr>\n",
              "    <tr>\n",
              "      <th>3</th>\n",
              "      <td>0.544883</td>\n",
              "      <td>0.583853</td>\n",
              "      <td>0.181948</td>\n",
              "      <td>0.570324</td>\n",
              "      <td>0.274942</td>\n",
              "    </tr>\n",
              "    <tr>\n",
              "      <th>4</th>\n",
              "      <td>0.423655</td>\n",
              "      <td>0.114194</td>\n",
              "      <td>0.258004</td>\n",
              "      <td>0.524673</td>\n",
              "      <td>0.232831</td>\n",
              "    </tr>\n",
              "  </tbody>\n",
              "</table>\n",
              "</div>\n",
              "    <div class=\"colab-df-buttons\">\n",
              "\n",
              "  <div class=\"colab-df-container\">\n",
              "    <button class=\"colab-df-convert\" onclick=\"convertToInteractive('df-c198dd89-ab32-4cb7-a1c2-393515ee5dde')\"\n",
              "            title=\"Convert this dataframe to an interactive table.\"\n",
              "            style=\"display:none;\">\n",
              "\n",
              "  <svg xmlns=\"http://www.w3.org/2000/svg\" height=\"24px\" viewBox=\"0 -960 960 960\">\n",
              "    <path d=\"M120-120v-720h720v720H120Zm60-500h600v-160H180v160Zm220 220h160v-160H400v160Zm0 220h160v-160H400v160ZM180-400h160v-160H180v160Zm440 0h160v-160H620v160ZM180-180h160v-160H180v160Zm440 0h160v-160H620v160Z\"/>\n",
              "  </svg>\n",
              "    </button>\n",
              "\n",
              "  <style>\n",
              "    .colab-df-container {\n",
              "      display:flex;\n",
              "      gap: 12px;\n",
              "    }\n",
              "\n",
              "    .colab-df-convert {\n",
              "      background-color: #E8F0FE;\n",
              "      border: none;\n",
              "      border-radius: 50%;\n",
              "      cursor: pointer;\n",
              "      display: none;\n",
              "      fill: #1967D2;\n",
              "      height: 32px;\n",
              "      padding: 0 0 0 0;\n",
              "      width: 32px;\n",
              "    }\n",
              "\n",
              "    .colab-df-convert:hover {\n",
              "      background-color: #E2EBFA;\n",
              "      box-shadow: 0px 1px 2px rgba(60, 64, 67, 0.3), 0px 1px 3px 1px rgba(60, 64, 67, 0.15);\n",
              "      fill: #174EA6;\n",
              "    }\n",
              "\n",
              "    .colab-df-buttons div {\n",
              "      margin-bottom: 4px;\n",
              "    }\n",
              "\n",
              "    [theme=dark] .colab-df-convert {\n",
              "      background-color: #3B4455;\n",
              "      fill: #D2E3FC;\n",
              "    }\n",
              "\n",
              "    [theme=dark] .colab-df-convert:hover {\n",
              "      background-color: #434B5C;\n",
              "      box-shadow: 0px 1px 3px 1px rgba(0, 0, 0, 0.15);\n",
              "      filter: drop-shadow(0px 1px 2px rgba(0, 0, 0, 0.3));\n",
              "      fill: #FFFFFF;\n",
              "    }\n",
              "  </style>\n",
              "\n",
              "    <script>\n",
              "      const buttonEl =\n",
              "        document.querySelector('#df-c198dd89-ab32-4cb7-a1c2-393515ee5dde button.colab-df-convert');\n",
              "      buttonEl.style.display =\n",
              "        google.colab.kernel.accessAllowed ? 'block' : 'none';\n",
              "\n",
              "      async function convertToInteractive(key) {\n",
              "        const element = document.querySelector('#df-c198dd89-ab32-4cb7-a1c2-393515ee5dde');\n",
              "        const dataTable =\n",
              "          await google.colab.kernel.invokeFunction('convertToInteractive',\n",
              "                                                    [key], {});\n",
              "        if (!dataTable) return;\n",
              "\n",
              "        const docLinkHtml = 'Like what you see? Visit the ' +\n",
              "          '<a target=\"_blank\" href=https://colab.research.google.com/notebooks/data_table.ipynb>data table notebook</a>'\n",
              "          + ' to learn more about interactive tables.';\n",
              "        element.innerHTML = '';\n",
              "        dataTable['output_type'] = 'display_data';\n",
              "        await google.colab.output.renderOutput(dataTable, element);\n",
              "        const docLink = document.createElement('div');\n",
              "        docLink.innerHTML = docLinkHtml;\n",
              "        element.appendChild(docLink);\n",
              "      }\n",
              "    </script>\n",
              "  </div>\n",
              "\n",
              "\n",
              "<div id=\"df-dccec1d5-efe1-4ba3-b62e-dab4611e6804\">\n",
              "  <button class=\"colab-df-quickchart\" onclick=\"quickchart('df-dccec1d5-efe1-4ba3-b62e-dab4611e6804')\"\n",
              "            title=\"Suggest charts\"\n",
              "            style=\"display:none;\">\n",
              "\n",
              "<svg xmlns=\"http://www.w3.org/2000/svg\" height=\"24px\"viewBox=\"0 0 24 24\"\n",
              "     width=\"24px\">\n",
              "    <g>\n",
              "        <path d=\"M19 3H5c-1.1 0-2 .9-2 2v14c0 1.1.9 2 2 2h14c1.1 0 2-.9 2-2V5c0-1.1-.9-2-2-2zM9 17H7v-7h2v7zm4 0h-2V7h2v10zm4 0h-2v-4h2v4z\"/>\n",
              "    </g>\n",
              "</svg>\n",
              "  </button>\n",
              "\n",
              "<style>\n",
              "  .colab-df-quickchart {\n",
              "      --bg-color: #E8F0FE;\n",
              "      --fill-color: #1967D2;\n",
              "      --hover-bg-color: #E2EBFA;\n",
              "      --hover-fill-color: #174EA6;\n",
              "      --disabled-fill-color: #AAA;\n",
              "      --disabled-bg-color: #DDD;\n",
              "  }\n",
              "\n",
              "  [theme=dark] .colab-df-quickchart {\n",
              "      --bg-color: #3B4455;\n",
              "      --fill-color: #D2E3FC;\n",
              "      --hover-bg-color: #434B5C;\n",
              "      --hover-fill-color: #FFFFFF;\n",
              "      --disabled-bg-color: #3B4455;\n",
              "      --disabled-fill-color: #666;\n",
              "  }\n",
              "\n",
              "  .colab-df-quickchart {\n",
              "    background-color: var(--bg-color);\n",
              "    border: none;\n",
              "    border-radius: 50%;\n",
              "    cursor: pointer;\n",
              "    display: none;\n",
              "    fill: var(--fill-color);\n",
              "    height: 32px;\n",
              "    padding: 0;\n",
              "    width: 32px;\n",
              "  }\n",
              "\n",
              "  .colab-df-quickchart:hover {\n",
              "    background-color: var(--hover-bg-color);\n",
              "    box-shadow: 0 1px 2px rgba(60, 64, 67, 0.3), 0 1px 3px 1px rgba(60, 64, 67, 0.15);\n",
              "    fill: var(--button-hover-fill-color);\n",
              "  }\n",
              "\n",
              "  .colab-df-quickchart-complete:disabled,\n",
              "  .colab-df-quickchart-complete:disabled:hover {\n",
              "    background-color: var(--disabled-bg-color);\n",
              "    fill: var(--disabled-fill-color);\n",
              "    box-shadow: none;\n",
              "  }\n",
              "\n",
              "  .colab-df-spinner {\n",
              "    border: 2px solid var(--fill-color);\n",
              "    border-color: transparent;\n",
              "    border-bottom-color: var(--fill-color);\n",
              "    animation:\n",
              "      spin 1s steps(1) infinite;\n",
              "  }\n",
              "\n",
              "  @keyframes spin {\n",
              "    0% {\n",
              "      border-color: transparent;\n",
              "      border-bottom-color: var(--fill-color);\n",
              "      border-left-color: var(--fill-color);\n",
              "    }\n",
              "    20% {\n",
              "      border-color: transparent;\n",
              "      border-left-color: var(--fill-color);\n",
              "      border-top-color: var(--fill-color);\n",
              "    }\n",
              "    30% {\n",
              "      border-color: transparent;\n",
              "      border-left-color: var(--fill-color);\n",
              "      border-top-color: var(--fill-color);\n",
              "      border-right-color: var(--fill-color);\n",
              "    }\n",
              "    40% {\n",
              "      border-color: transparent;\n",
              "      border-right-color: var(--fill-color);\n",
              "      border-top-color: var(--fill-color);\n",
              "    }\n",
              "    60% {\n",
              "      border-color: transparent;\n",
              "      border-right-color: var(--fill-color);\n",
              "    }\n",
              "    80% {\n",
              "      border-color: transparent;\n",
              "      border-right-color: var(--fill-color);\n",
              "      border-bottom-color: var(--fill-color);\n",
              "    }\n",
              "    90% {\n",
              "      border-color: transparent;\n",
              "      border-bottom-color: var(--fill-color);\n",
              "    }\n",
              "  }\n",
              "</style>\n",
              "\n",
              "  <script>\n",
              "    async function quickchart(key) {\n",
              "      const quickchartButtonEl =\n",
              "        document.querySelector('#' + key + ' button');\n",
              "      quickchartButtonEl.disabled = true;  // To prevent multiple clicks.\n",
              "      quickchartButtonEl.classList.add('colab-df-spinner');\n",
              "      try {\n",
              "        const charts = await google.colab.kernel.invokeFunction(\n",
              "            'suggestCharts', [key], {});\n",
              "      } catch (error) {\n",
              "        console.error('Error during call to suggestCharts:', error);\n",
              "      }\n",
              "      quickchartButtonEl.classList.remove('colab-df-spinner');\n",
              "      quickchartButtonEl.classList.add('colab-df-quickchart-complete');\n",
              "    }\n",
              "    (() => {\n",
              "      let quickchartButtonEl =\n",
              "        document.querySelector('#df-dccec1d5-efe1-4ba3-b62e-dab4611e6804 button');\n",
              "      quickchartButtonEl.style.display =\n",
              "        google.colab.kernel.accessAllowed ? 'block' : 'none';\n",
              "    })();\n",
              "  </script>\n",
              "</div>\n",
              "    </div>\n",
              "  </div>\n"
            ],
            "application/vnd.google.colaboratory.intrinsic+json": {
              "type": "dataframe",
              "variable_name": "df",
              "summary": "{\n  \"name\": \"df\",\n  \"rows\": 1000,\n  \"fields\": [\n    {\n      \"column\": \"S\",\n      \"properties\": {\n        \"dtype\": \"number\",\n        \"std\": 0.2907442500468477,\n        \"min\": 0.0005459648969956543,\n        \"max\": 0.9998085781169653,\n        \"num_unique_values\": 1000,\n        \"samples\": [\n          0.2826996509455366,\n          0.52437981107722,\n          0.04680635471218875\n        ],\n        \"semantic_type\": \"\",\n        \"description\": \"\"\n      }\n    },\n    {\n      \"column\": \"Q\",\n      \"properties\": {\n        \"dtype\": \"number\",\n        \"std\": 0.2090037446807425,\n        \"min\": 0.02062337923493783,\n        \"max\": 0.8619516493814515,\n        \"num_unique_values\": 1000,\n        \"samples\": [\n          0.6468086309158152,\n          0.6581205485486986,\n          0.41218386858436634\n        ],\n        \"semantic_type\": \"\",\n        \"description\": \"\"\n      }\n    },\n    {\n      \"column\": \"X\",\n      \"properties\": {\n        \"dtype\": \"number\",\n        \"std\": 0.11858692653149155,\n        \"min\": 0.014046857041980412,\n        \"max\": 0.5084713293277281,\n        \"num_unique_values\": 1000,\n        \"samples\": [\n          0.16689320999387575,\n          0.13885967966187396,\n          0.09550065325876493\n        ],\n        \"semantic_type\": \"\",\n        \"description\": \"\"\n      }\n    },\n    {\n      \"column\": \"Y\",\n      \"properties\": {\n        \"dtype\": \"number\",\n        \"std\": 0.1535553212984366,\n        \"min\": 0.10974446933761733,\n        \"max\": 0.8856496699205871,\n        \"num_unique_values\": 1000,\n        \"samples\": [\n          0.3072149408578939,\n          0.5277863322517596,\n          0.13501027754298003\n        ],\n        \"semantic_type\": \"\",\n        \"description\": \"\"\n      }\n    },\n    {\n      \"column\": \"P\",\n      \"properties\": {\n        \"dtype\": \"number\",\n        \"std\": 0.09594678787210147,\n        \"min\": 0.07312061205132689,\n        \"max\": 0.5866257178687596,\n        \"num_unique_values\": 1000,\n        \"samples\": [\n          0.33256282431788203,\n          0.3566143145319202,\n          0.08065718872997342\n        ],\n        \"semantic_type\": \"\",\n        \"description\": \"\"\n      }\n    }\n  ]\n}"
            }
          },
          "metadata": {},
          "execution_count": 4
        }
      ]
    },
    {
      "cell_type": "code",
      "source": [
        "'''\n",
        "df = pd.DataFrame(np.vstack([S, Q, X, Y, P]).T, columns=['S', 'Q', 'X', 'Y', 'P'])\n",
        "df.head(5)\n",
        "'''"
      ],
      "metadata": {
        "colab": {
          "base_uri": "https://localhost:8080/",
          "height": 36
        },
        "id": "fJlci9TrECh-",
        "outputId": "220fe86a-aad4-4dd1-f021-6957568154c9"
      },
      "execution_count": null,
      "outputs": [
        {
          "output_type": "execute_result",
          "data": {
            "text/plain": [
              "\"\\ndf = pd.DataFrame(np.vstack([S, Q, X, Y, P]).T, columns=['S', 'Q', 'X', 'Y', 'P'])\\ndf.head(5)\\n\""
            ],
            "application/vnd.google.colaboratory.intrinsic+json": {
              "type": "string"
            }
          },
          "metadata": {},
          "execution_count": 11
        }
      ]
    },
    {
      "cell_type": "markdown",
      "source": [
        "# 2. Baseline - Linear Regression"
      ],
      "metadata": {
        "id": "a4tQq4xFF1t6"
      }
    },
    {
      "cell_type": "code",
      "source": [
        "Y = df['Y']\n",
        "X = df[['S', 'P', 'Q', 'X']]\n",
        "X = sm.add_constant(X)\n",
        "model = sm.OLS(Y,X)\n",
        "results = model.fit()"
      ],
      "metadata": {
        "id": "M-eHS0B0F07j"
      },
      "execution_count": null,
      "outputs": []
    },
    {
      "cell_type": "code",
      "source": [
        "display(results.summary())"
      ],
      "metadata": {
        "colab": {
          "base_uri": "https://localhost:8080/",
          "height": 495
        },
        "id": "4hdFmQzSF09q",
        "outputId": "ed27ba87-9158-4a46-b614-0b46843cb7fd"
      },
      "execution_count": null,
      "outputs": [
        {
          "output_type": "display_data",
          "data": {
            "text/plain": [
              "<class 'statsmodels.iolib.summary.Summary'>\n",
              "\"\"\"\n",
              "                            OLS Regression Results                            \n",
              "==============================================================================\n",
              "Dep. Variable:                      Y   R-squared:                       0.813\n",
              "Model:                            OLS   Adj. R-squared:                  0.812\n",
              "Method:                 Least Squares   F-statistic:                     1080.\n",
              "Date:                Sun, 03 Mar 2024   Prob (F-statistic):               0.00\n",
              "Time:                        10:36:41   Log-Likelihood:                 1292.9\n",
              "No. Observations:                1000   AIC:                            -2576.\n",
              "Df Residuals:                     995   BIC:                            -2551.\n",
              "Df Model:                           4                                         \n",
              "Covariance Type:            nonrobust                                         \n",
              "==============================================================================\n",
              "                 coef    std err          t      P>|t|      [0.025      0.975]\n",
              "------------------------------------------------------------------------------\n",
              "const          0.0799      0.008      9.905      0.000       0.064       0.096\n",
              "S              0.2979      0.008     37.817      0.000       0.282       0.313\n",
              "P              0.2652      0.033      8.053      0.000       0.201       0.330\n",
              "Q              0.0927      0.011      8.524      0.000       0.071       0.114\n",
              "X              0.5785      0.026     22.184      0.000       0.527       0.630\n",
              "==============================================================================\n",
              "Omnibus:                      277.966   Durbin-Watson:                   1.964\n",
              "Prob(Omnibus):                  0.000   Jarque-Bera (JB):               46.703\n",
              "Skew:                           0.072   Prob(JB):                     7.22e-11\n",
              "Kurtosis:                       1.951   Cond. No.                         23.9\n",
              "==============================================================================\n",
              "\n",
              "Notes:\n",
              "[1] Standard Errors assume that the covariance matrix of the errors is correctly specified.\n",
              "\"\"\""
            ],
            "text/html": [
              "<table class=\"simpletable\">\n",
              "<caption>OLS Regression Results</caption>\n",
              "<tr>\n",
              "  <th>Dep. Variable:</th>            <td>Y</td>        <th>  R-squared:         </th> <td>   0.813</td>\n",
              "</tr>\n",
              "<tr>\n",
              "  <th>Model:</th>                   <td>OLS</td>       <th>  Adj. R-squared:    </th> <td>   0.812</td>\n",
              "</tr>\n",
              "<tr>\n",
              "  <th>Method:</th>             <td>Least Squares</td>  <th>  F-statistic:       </th> <td>   1080.</td>\n",
              "</tr>\n",
              "<tr>\n",
              "  <th>Date:</th>             <td>Sun, 03 Mar 2024</td> <th>  Prob (F-statistic):</th>  <td>  0.00</td> \n",
              "</tr>\n",
              "<tr>\n",
              "  <th>Time:</th>                 <td>10:36:41</td>     <th>  Log-Likelihood:    </th> <td>  1292.9</td>\n",
              "</tr>\n",
              "<tr>\n",
              "  <th>No. Observations:</th>      <td>  1000</td>      <th>  AIC:               </th> <td>  -2576.</td>\n",
              "</tr>\n",
              "<tr>\n",
              "  <th>Df Residuals:</th>          <td>   995</td>      <th>  BIC:               </th> <td>  -2551.</td>\n",
              "</tr>\n",
              "<tr>\n",
              "  <th>Df Model:</th>              <td>     4</td>      <th>                     </th>     <td> </td>   \n",
              "</tr>\n",
              "<tr>\n",
              "  <th>Covariance Type:</th>      <td>nonrobust</td>    <th>                     </th>     <td> </td>   \n",
              "</tr>\n",
              "</table>\n",
              "<table class=\"simpletable\">\n",
              "<tr>\n",
              "    <td></td>       <th>coef</th>     <th>std err</th>      <th>t</th>      <th>P>|t|</th>  <th>[0.025</th>    <th>0.975]</th>  \n",
              "</tr>\n",
              "<tr>\n",
              "  <th>const</th> <td>    0.0799</td> <td>    0.008</td> <td>    9.905</td> <td> 0.000</td> <td>    0.064</td> <td>    0.096</td>\n",
              "</tr>\n",
              "<tr>\n",
              "  <th>S</th>     <td>    0.2979</td> <td>    0.008</td> <td>   37.817</td> <td> 0.000</td> <td>    0.282</td> <td>    0.313</td>\n",
              "</tr>\n",
              "<tr>\n",
              "  <th>P</th>     <td>    0.2652</td> <td>    0.033</td> <td>    8.053</td> <td> 0.000</td> <td>    0.201</td> <td>    0.330</td>\n",
              "</tr>\n",
              "<tr>\n",
              "  <th>Q</th>     <td>    0.0927</td> <td>    0.011</td> <td>    8.524</td> <td> 0.000</td> <td>    0.071</td> <td>    0.114</td>\n",
              "</tr>\n",
              "<tr>\n",
              "  <th>X</th>     <td>    0.5785</td> <td>    0.026</td> <td>   22.184</td> <td> 0.000</td> <td>    0.527</td> <td>    0.630</td>\n",
              "</tr>\n",
              "</table>\n",
              "<table class=\"simpletable\">\n",
              "<tr>\n",
              "  <th>Omnibus:</th>       <td>277.966</td> <th>  Durbin-Watson:     </th> <td>   1.964</td>\n",
              "</tr>\n",
              "<tr>\n",
              "  <th>Prob(Omnibus):</th> <td> 0.000</td>  <th>  Jarque-Bera (JB):  </th> <td>  46.703</td>\n",
              "</tr>\n",
              "<tr>\n",
              "  <th>Skew:</th>          <td> 0.072</td>  <th>  Prob(JB):          </th> <td>7.22e-11</td>\n",
              "</tr>\n",
              "<tr>\n",
              "  <th>Kurtosis:</th>      <td> 1.951</td>  <th>  Cond. No.          </th> <td>    23.9</td>\n",
              "</tr>\n",
              "</table><br/><br/>Notes:<br/>[1] Standard Errors assume that the covariance matrix of the errors is correctly specified."
            ],
            "text/latex": "\\begin{center}\n\\begin{tabular}{lclc}\n\\toprule\n\\textbf{Dep. Variable:}    &        Y         & \\textbf{  R-squared:         } &     0.813   \\\\\n\\textbf{Model:}            &       OLS        & \\textbf{  Adj. R-squared:    } &     0.812   \\\\\n\\textbf{Method:}           &  Least Squares   & \\textbf{  F-statistic:       } &     1080.   \\\\\n\\textbf{Date:}             & Sun, 03 Mar 2024 & \\textbf{  Prob (F-statistic):} &     0.00    \\\\\n\\textbf{Time:}             &     10:36:41     & \\textbf{  Log-Likelihood:    } &    1292.9   \\\\\n\\textbf{No. Observations:} &        1000      & \\textbf{  AIC:               } &    -2576.   \\\\\n\\textbf{Df Residuals:}     &         995      & \\textbf{  BIC:               } &    -2551.   \\\\\n\\textbf{Df Model:}         &           4      & \\textbf{                     } &             \\\\\n\\textbf{Covariance Type:}  &    nonrobust     & \\textbf{                     } &             \\\\\n\\bottomrule\n\\end{tabular}\n\\begin{tabular}{lcccccc}\n               & \\textbf{coef} & \\textbf{std err} & \\textbf{t} & \\textbf{P$> |$t$|$} & \\textbf{[0.025} & \\textbf{0.975]}  \\\\\n\\midrule\n\\textbf{const} &       0.0799  &        0.008     &     9.905  &         0.000        &        0.064    &        0.096     \\\\\n\\textbf{S}     &       0.2979  &        0.008     &    37.817  &         0.000        &        0.282    &        0.313     \\\\\n\\textbf{P}     &       0.2652  &        0.033     &     8.053  &         0.000        &        0.201    &        0.330     \\\\\n\\textbf{Q}     &       0.0927  &        0.011     &     8.524  &         0.000        &        0.071    &        0.114     \\\\\n\\textbf{X}     &       0.5785  &        0.026     &    22.184  &         0.000        &        0.527    &        0.630     \\\\\n\\bottomrule\n\\end{tabular}\n\\begin{tabular}{lclc}\n\\textbf{Omnibus:}       & 277.966 & \\textbf{  Durbin-Watson:     } &    1.964  \\\\\n\\textbf{Prob(Omnibus):} &   0.000 & \\textbf{  Jarque-Bera (JB):  } &   46.703  \\\\\n\\textbf{Skew:}          &   0.072 & \\textbf{  Prob(JB):          } & 7.22e-11  \\\\\n\\textbf{Kurtosis:}      &   1.951 & \\textbf{  Cond. No.          } &     23.9  \\\\\n\\bottomrule\n\\end{tabular}\n%\\caption{OLS Regression Results}\n\\end{center}\n\nNotes: \\newline\n [1] Standard Errors assume that the covariance matrix of the errors is correctly specified."
          },
          "metadata": {}
        }
      ]
    },
    {
      "cell_type": "code",
      "source": [
        "print(results.params)"
      ],
      "metadata": {
        "colab": {
          "base_uri": "https://localhost:8080/"
        },
        "id": "KmdoI0a7Gb5c",
        "outputId": "6349bcd9-bd12-4be6-b0ee-ce896ff32201"
      },
      "execution_count": null,
      "outputs": [
        {
          "output_type": "stream",
          "name": "stdout",
          "text": [
            "const    0.079882\n",
            "S        0.297857\n",
            "P        0.265168\n",
            "Q        0.092702\n",
            "X        0.578534\n",
            "dtype: float64\n"
          ]
        }
      ]
    },
    {
      "cell_type": "markdown",
      "source": [
        "# 3. Causal Inference Model"
      ],
      "metadata": {
        "id": "YWzB_PrQBE9n"
      }
    },
    {
      "cell_type": "code",
      "source": [
        "# 1. Encode assumptions\n",
        "nodes = ['S', 'Q', 'X', 'Y', 'P']\n",
        "edges = ['SQ', 'SY', 'QX', 'QY', 'XP', 'YP', 'XY']\n",
        "gml_string = 'graph [directed 1\\n'\n",
        "for node in nodes:\n",
        "  gml_string += f'\\tnode [id \"{node}\" label \"{node}\"]\\n'\n",
        "for edge in edges:\n",
        "  gml_string += f'\\tedge [source \"{edge[0]}\" target \"{edge[1]}\"]\\n'\n",
        "gml_string += \"]\"\n",
        "print(gml_string)"
      ],
      "metadata": {
        "id": "aQ-Xrln1QaOQ",
        "colab": {
          "base_uri": "https://localhost:8080/"
        },
        "outputId": "7ef3edb8-3df5-41e4-c702-3737348caa34"
      },
      "execution_count": 5,
      "outputs": [
        {
          "output_type": "stream",
          "name": "stdout",
          "text": [
            "graph [directed 1\n",
            "\tnode [id \"S\" label \"S\"]\n",
            "\tnode [id \"Q\" label \"Q\"]\n",
            "\tnode [id \"X\" label \"X\"]\n",
            "\tnode [id \"Y\" label \"Y\"]\n",
            "\tnode [id \"P\" label \"P\"]\n",
            "\tedge [source \"S\" target \"Q\"]\n",
            "\tedge [source \"S\" target \"Y\"]\n",
            "\tedge [source \"Q\" target \"X\"]\n",
            "\tedge [source \"Q\" target \"Y\"]\n",
            "\tedge [source \"X\" target \"P\"]\n",
            "\tedge [source \"Y\" target \"P\"]\n",
            "\tedge [source \"X\" target \"Y\"]\n",
            "]\n"
          ]
        }
      ]
    },
    {
      "cell_type": "code",
      "source": [
        "# Instantiate model\n",
        "model = CausalModel(\n",
        "    data=df,\n",
        "    treatment='X',\n",
        "    outcome='Y',\n",
        "    graph=gml_string\n",
        ")\n",
        "model.view_model()"
      ],
      "metadata": {
        "id": "2D94oiIHQaQo",
        "colab": {
          "base_uri": "https://localhost:8080/",
          "height": 499
        },
        "outputId": "3ba39867-cb89-4cce-9cec-9233935864a4"
      },
      "execution_count": 17,
      "outputs": [
        {
          "output_type": "display_data",
          "data": {
            "text/plain": [
              "<Figure size 800x600 with 1 Axes>"
            ],
            "image/png": "[encoded data removed]"
          },
          "metadata": {}
        }
      ]
    },
    {
      "cell_type": "code",
      "source": [
        "# 2. Getting the estimand\n",
        "estimand = model.identify_effect()\n",
        "print(estimand)"
      ],
      "metadata": {
        "id": "rbw9BR4nQaSw",
        "colab": {
          "base_uri": "https://localhost:8080/"
        },
        "outputId": "ffc52bcd-63a1-4b75-ccbd-b63db0e94dce"
      },
      "execution_count": 18,
      "outputs": [
        {
          "output_type": "stream",
          "name": "stdout",
          "text": [
            "Estimand type: EstimandType.NONPARAMETRIC_ATE\n",
            "\n",
            "### Estimand : 1\n",
            "Estimand name: backdoor\n",
            "Estimand expression:\n",
            " d          \n",
            "────(E[Y|Q])\n",
            "d[X]        \n",
            "Estimand assumption 1, Unconfoundedness: If U→{X} and U→Y then P(Y|X,Q,U) = P(Y|X,Q)\n",
            "\n",
            "### Estimand : 2\n",
            "Estimand name: iv\n",
            "No such variable(s) found!\n",
            "\n",
            "### Estimand : 3\n",
            "Estimand name: frontdoor\n",
            "No such variable(s) found!\n",
            "\n"
          ]
        }
      ]
    },
    {
      "cell_type": "code",
      "source": [
        "# 3. Getting the estimate\n",
        "estimate = model.estimate_effect(\n",
        "    identified_estimand=estimand,\n",
        "    method_name='backdoor.econml.dml.DML',\n",
        "    method_params={\n",
        "        'init_params': {\n",
        "            'model_y': GradientBoostingRegressor(),\n",
        "            'model_t': GradientBoostingRegressor(),\n",
        "            'model_final': LassoCV(fit_intercept=False)\n",
        "        },\n",
        "        'fit_params':{}\n",
        "    }\n",
        ")\n",
        "print(estimate)"
      ],
      "metadata": {
        "id": "HkOQwruHQaVY",
        "colab": {
          "base_uri": "https://localhost:8080/"
        },
        "outputId": "51a1d0cd-a763-47cf-a1e1-7c1565d4ecca"
      },
      "execution_count": 19,
      "outputs": [
        {
          "output_type": "stream",
          "name": "stderr",
          "text": [
            "A column-vector y was passed when a 1d array was expected. Please change the shape of y to (n_samples, ), for example using ravel().\n",
            "A column-vector y was passed when a 1d array was expected. Please change the shape of y to (n_samples, ), for example using ravel().\n"
          ]
        },
        {
          "output_type": "stream",
          "name": "stdout",
          "text": [
            "*** Causal Estimate ***\n",
            "\n",
            "## Identified estimand\n",
            "Estimand type: EstimandType.NONPARAMETRIC_ATE\n",
            "\n",
            "### Estimand : 1\n",
            "Estimand name: backdoor\n",
            "Estimand expression:\n",
            " d          \n",
            "────(E[Y|Q])\n",
            "d[X]        \n",
            "Estimand assumption 1, Unconfoundedness: If U→{X} and U→Y then P(Y|X,Q,U) = P(Y|X,Q)\n",
            "\n",
            "## Realized estimand\n",
            "b: Y~X+Q | \n",
            "Target units: ate\n",
            "\n",
            "## Estimate\n",
            "Mean value: 0.712501264272969\n",
            "Effect estimates: [[0.71250126]]\n",
            "\n"
          ]
        }
      ]
    },
    {
      "cell_type": "code",
      "source": [
        "print(f\"Estimate of causal effect (DML): {estimate.value}\")"
      ],
      "metadata": {
        "id": "jPqnOmlBQaXT",
        "colab": {
          "base_uri": "https://localhost:8080/"
        },
        "outputId": "669cd3a6-0a0d-4fbc-a3aa-e7c71565cf45"
      },
      "execution_count": null,
      "outputs": [
        {
          "output_type": "stream",
          "name": "stdout",
          "text": [
            "Estimate of causal effect (DML): 0.6857252951405622\n"
          ]
        }
      ]
    },
    {
      "cell_type": "code",
      "source": [
        "'''\n",
        "# 3. Getting the estimate (alternative version - simpler models)\n",
        "estimate_lr = model.estimate_effect(\n",
        "    identified_estimand=estimand,\n",
        "    method_name='backdoor.linear_regression')\n",
        "\n",
        "print(f'Estimate of causal effect (linear regression): {estimate_lr.value}')\n",
        "'''"
      ],
      "metadata": {
        "id": "DX_2JtcGQaZi",
        "colab": {
          "base_uri": "https://localhost:8080/",
          "height": 55
        },
        "outputId": "451ef25b-8223-46b2-e470-2fcef5f0049c"
      },
      "execution_count": null,
      "outputs": [
        {
          "output_type": "execute_result",
          "data": {
            "text/plain": [
              "'\\n# 3. Getting the estimate (alternative version - simpler models)\\nestimate_lr = model.estimate_effect(\\n    identified_estimand=estimand,\\n    method_name=\\'backdoor.linear_regresssion\\'\\n)\\nprint(f\"Estimate of causal effect (Linear Regression): {estimate_lr.value}\")\\n'"
            ],
            "application/vnd.google.colaboratory.intrinsic+json": {
              "type": "string"
            }
          },
          "metadata": {},
          "execution_count": 37
        }
      ]
    },
    {
      "cell_type": "code",
      "source": [
        "# Tests\n",
        "random_cause = model.refute_estimate(\n",
        "    estimand=estimand,\n",
        "    estimate=estimate,\n",
        "    method_name='random_common_cause'\n",
        ")\n",
        "clear_output()\n",
        "print(random_cause)"
      ],
      "metadata": {
        "id": "QCOYV3L7Qabz",
        "colab": {
          "base_uri": "https://localhost:8080/"
        },
        "outputId": "f794d4e5-9f69-43ef-f520-ffba46248d14"
      },
      "execution_count": null,
      "outputs": [
        {
          "output_type": "stream",
          "name": "stdout",
          "text": [
            "Refute: Add a random common cause\n",
            "Estimated effect:0.6857252951405622\n",
            "New effect:0.6861760077816318\n",
            "p value:0.96\n",
            "\n"
          ]
        }
      ]
    },
    {
      "cell_type": "code",
      "source": [
        "placebo_refuter = model.refute_estimate(\n",
        "    estimand=estimand,\n",
        "    estimate=estimate,\n",
        "    method_name='placebo_treatment_refuter'\n",
        "\n",
        ")\n",
        "clear_output()\n",
        "print(placebo_refuter)"
      ],
      "metadata": {
        "colab": {
          "base_uri": "https://localhost:8080/"
        },
        "id": "GvJOCLbOJnPo",
        "outputId": "b7e92ade-c1af-496b-d7d1-6e8dbfaed683"
      },
      "execution_count": null,
      "outputs": [
        {
          "output_type": "stream",
          "name": "stdout",
          "text": [
            "Refute: Use a Placebo Treatment\n",
            "Estimated effect:0.6857252951405622\n",
            "New effect:0.0\n",
            "p value:1.0\n",
            "\n"
          ]
        }
      ]
    },
    {
      "cell_type": "code",
      "source": [],
      "metadata": {
        "id": "yMwpKc0_5Rya"
      },
      "execution_count": null,
      "outputs": []
    },
    {
      "cell_type": "code",
      "source": [],
      "metadata": {
        "id": "LZ8IIWbd5R1C"
      },
      "execution_count": null,
      "outputs": []
    },
    {
      "cell_type": "code",
      "source": [
        "# Estimating with Confidence Intervals -> Revisar!\n",
        "# Source: https://www.pywhy.org/dowhy/v0.5.1/example_notebooks/dowhy-conditional-treatment-effects.html\n",
        "from sklearn.preprocessing import PolynomialFeatures\n",
        "from sklearn.linear_model import LassoCV\n",
        "from sklearn.ensemble import GradientBoostingRegressor\n",
        "from econml.inference import BootstrapInference\n",
        "dml_estimate = model.estimate_effect(\n",
        "    identified_estimand=estimand,\n",
        "    method_name='backdoor.econml.dml.DML',\n",
        "    confidence_intervals=True,\n",
        "    target_units = \"ate\",\n",
        "    method_params={\"init_params\":{\n",
        "            'model_y': GradientBoostingRegressor(),\n",
        "            'model_t': GradientBoostingRegressor(),\n",
        "            'model_final': LassoCV(fit_intercept=False)\n",
        "            },\n",
        "                    \"fit_params\":{\n",
        "                        'inference': BootstrapInference(n_bootstrap_samples=100, n_jobs=-1),\n",
        "                        }\n",
        "                    }\n",
        "    )\n",
        "clear_output()\n",
        "print(dml_estimate)"
      ],
      "metadata": {
        "colab": {
          "base_uri": "https://localhost:8080/"
        },
        "id": "mc57DWA65R4K",
        "outputId": "da14fe74-221a-45f8-8573-ea14054c96e0"
      },
      "execution_count": null,
      "outputs": [
        {
          "output_type": "stream",
          "name": "stdout",
          "text": [
            "*** Causal Estimate ***\n",
            "\n",
            "## Identified estimand\n",
            "Estimand type: EstimandType.NONPARAMETRIC_ATE\n",
            "\n",
            "### Estimand : 1\n",
            "Estimand name: backdoor\n",
            "Estimand expression:\n",
            " d          \n",
            "────(E[Y|Q])\n",
            "d[X]        \n",
            "Estimand assumption 1, Unconfoundedness: If U→{X} and U→Y then P(Y|X,Q,U) = P(Y|X,Q)\n",
            "\n",
            "## Realized estimand\n",
            "b: Y~X+Q | \n",
            "Target units: ate\n",
            "\n",
            "## Estimate\n",
            "Mean value: 0.6879509475770892\n",
            "Effect estimates: [[0.68795095]]\n",
            "95.0% confidence interval: [[[0.63773648]]\n",
            "\n",
            " [[0.75100473]]]\n",
            "\n"
          ]
        }
      ]
    },
    {
      "cell_type": "code",
      "source": [
        "# Getting predictions -> REVISAR!\n",
        "df_test = df.copy()\n",
        "\n",
        "dml_estimate = model.estimate_effect(\n",
        "    identified_estimand=estimand,\n",
        "    method_name='backdoor.econml.dml.DML',\n",
        "    target_units = df_test,\n",
        "    method_params={\n",
        "        'init_params': {\n",
        "            'model_y': GradientBoostingRegressor(),\n",
        "            'model_t': GradientBoostingRegressor(),\n",
        "            'model_final': LassoCV(fit_intercept=False)\n",
        "        },\n",
        "        'fit_params':{}\n",
        "    }\n",
        ")\n",
        "clear_output()\n",
        "print(dml_estimate.cate_estimates)"
      ],
      "metadata": {
        "colab": {
          "base_uri": "https://localhost:8080/"
        },
        "id": "vqX9UYfw5R7g",
        "outputId": "03c57f67-82d3-4986-8f01-fb7d146d88ed"
      },
      "execution_count": null,
      "outputs": [
        {
          "output_type": "stream",
          "name": "stdout",
          "text": [
            "[[0.73056663]]\n"
          ]
        }
      ]
    },
    {
      "cell_type": "code",
      "source": [
        "df_test"
      ],
      "metadata": {
        "colab": {
          "base_uri": "https://localhost:8080/",
          "height": 423
        },
        "id": "lJe2Hm9R6jD5",
        "outputId": "14a0c1bd-dc7b-4807-bce8-cf5f56580e2f"
      },
      "execution_count": null,
      "outputs": [
        {
          "output_type": "execute_result",
          "data": {
            "text/plain": [
              "            S         Q         X         Y         P\n",
              "0    0.548814  0.506992  0.395586  0.607651  0.362090\n",
              "1    0.715189  0.149781  0.211403  0.544427  0.329867\n",
              "2    0.602763  0.439356  0.270772  0.617614  0.276362\n",
              "3    0.544883  0.583853  0.181948  0.570324  0.274942\n",
              "4    0.423655  0.114194  0.258004  0.524673  0.232831\n",
              "..        ...       ...       ...       ...       ...\n",
              "995  0.097676  0.549694  0.453632  0.493179  0.346624\n",
              "996  0.514922  0.586187  0.300519  0.543989  0.295261\n",
              "997  0.938412  0.509355  0.200755  0.696050  0.275921\n",
              "998  0.228647  0.477118  0.392215  0.624074  0.387419\n",
              "999  0.677141  0.471616  0.344986  0.584055  0.481886\n",
              "\n",
              "[1000 rows x 5 columns]"
            ],
            "text/html": [
              "\n",
              "  <div id=\"df-7bb71923-d6b5-4951-93fd-5883dc55c6b3\" class=\"colab-df-container\">\n",
              "    <div>\n",
              "<style scoped>\n",
              "    .dataframe tbody tr th:only-of-type {\n",
              "        vertical-align: middle;\n",
              "    }\n",
              "\n",
              "    .dataframe tbody tr th {\n",
              "        vertical-align: top;\n",
              "    }\n",
              "\n",
              "    .dataframe thead th {\n",
              "        text-align: right;\n",
              "    }\n",
              "</style>\n",
              "<table border=\"1\" class=\"dataframe\">\n",
              "  <thead>\n",
              "    <tr style=\"text-align: right;\">\n",
              "      <th></th>\n",
              "      <th>S</th>\n",
              "      <th>Q</th>\n",
              "      <th>X</th>\n",
              "      <th>Y</th>\n",
              "      <th>P</th>\n",
              "    </tr>\n",
              "  </thead>\n",
              "  <tbody>\n",
              "    <tr>\n",
              "      <th>0</th>\n",
              "      <td>0.548814</td>\n",
              "      <td>0.506992</td>\n",
              "      <td>0.395586</td>\n",
              "      <td>0.607651</td>\n",
              "      <td>0.362090</td>\n",
              "    </tr>\n",
              "    <tr>\n",
              "      <th>1</th>\n",
              "      <td>0.715189</td>\n",
              "      <td>0.149781</td>\n",
              "      <td>0.211403</td>\n",
              "      <td>0.544427</td>\n",
              "      <td>0.329867</td>\n",
              "    </tr>\n",
              "    <tr>\n",
              "      <th>2</th>\n",
              "      <td>0.602763</td>\n",
              "      <td>0.439356</td>\n",
              "      <td>0.270772</td>\n",
              "      <td>0.617614</td>\n",
              "      <td>0.276362</td>\n",
              "    </tr>\n",
              "    <tr>\n",
              "      <th>3</th>\n",
              "      <td>0.544883</td>\n",
              "      <td>0.583853</td>\n",
              "      <td>0.181948</td>\n",
              "      <td>0.570324</td>\n",
              "      <td>0.274942</td>\n",
              "    </tr>\n",
              "    <tr>\n",
              "      <th>4</th>\n",
              "      <td>0.423655</td>\n",
              "      <td>0.114194</td>\n",
              "      <td>0.258004</td>\n",
              "      <td>0.524673</td>\n",
              "      <td>0.232831</td>\n",
              "    </tr>\n",
              "    <tr>\n",
              "      <th>...</th>\n",
              "      <td>...</td>\n",
              "      <td>...</td>\n",
              "      <td>...</td>\n",
              "      <td>...</td>\n",
              "      <td>...</td>\n",
              "    </tr>\n",
              "    <tr>\n",
              "      <th>995</th>\n",
              "      <td>0.097676</td>\n",
              "      <td>0.549694</td>\n",
              "      <td>0.453632</td>\n",
              "      <td>0.493179</td>\n",
              "      <td>0.346624</td>\n",
              "    </tr>\n",
              "    <tr>\n",
              "      <th>996</th>\n",
              "      <td>0.514922</td>\n",
              "      <td>0.586187</td>\n",
              "      <td>0.300519</td>\n",
              "      <td>0.543989</td>\n",
              "      <td>0.295261</td>\n",
              "    </tr>\n",
              "    <tr>\n",
              "      <th>997</th>\n",
              "      <td>0.938412</td>\n",
              "      <td>0.509355</td>\n",
              "      <td>0.200755</td>\n",
              "      <td>0.696050</td>\n",
              "      <td>0.275921</td>\n",
              "    </tr>\n",
              "    <tr>\n",
              "      <th>998</th>\n",
              "      <td>0.228647</td>\n",
              "      <td>0.477118</td>\n",
              "      <td>0.392215</td>\n",
              "      <td>0.624074</td>\n",
              "      <td>0.387419</td>\n",
              "    </tr>\n",
              "    <tr>\n",
              "      <th>999</th>\n",
              "      <td>0.677141</td>\n",
              "      <td>0.471616</td>\n",
              "      <td>0.344986</td>\n",
              "      <td>0.584055</td>\n",
              "      <td>0.481886</td>\n",
              "    </tr>\n",
              "  </tbody>\n",
              "</table>\n",
              "<p>1000 rows × 5 columns</p>\n",
              "</div>\n",
              "    <div class=\"colab-df-buttons\">\n",
              "\n",
              "  <div class=\"colab-df-container\">\n",
              "    <button class=\"colab-df-convert\" onclick=\"convertToInteractive('df-7bb71923-d6b5-4951-93fd-5883dc55c6b3')\"\n",
              "            title=\"Convert this dataframe to an interactive table.\"\n",
              "            style=\"display:none;\">\n",
              "\n",
              "  <svg xmlns=\"http://www.w3.org/2000/svg\" height=\"24px\" viewBox=\"0 -960 960 960\">\n",
              "    <path d=\"M120-120v-720h720v720H120Zm60-500h600v-160H180v160Zm220 220h160v-160H400v160Zm0 220h160v-160H400v160ZM180-400h160v-160H180v160Zm440 0h160v-160H620v160ZM180-180h160v-160H180v160Zm440 0h160v-160H620v160Z\"/>\n",
              "  </svg>\n",
              "    </button>\n",
              "\n",
              "  <style>\n",
              "    .colab-df-container {\n",
              "      display:flex;\n",
              "      gap: 12px;\n",
              "    }\n",
              "\n",
              "    .colab-df-convert {\n",
              "      background-color: #E8F0FE;\n",
              "      border: none;\n",
              "      border-radius: 50%;\n",
              "      cursor: pointer;\n",
              "      display: none;\n",
              "      fill: #1967D2;\n",
              "      height: 32px;\n",
              "      padding: 0 0 0 0;\n",
              "      width: 32px;\n",
              "    }\n",
              "\n",
              "    .colab-df-convert:hover {\n",
              "      background-color: #E2EBFA;\n",
              "      box-shadow: 0px 1px 2px rgba(60, 64, 67, 0.3), 0px 1px 3px 1px rgba(60, 64, 67, 0.15);\n",
              "      fill: #174EA6;\n",
              "    }\n",
              "\n",
              "    .colab-df-buttons div {\n",
              "      margin-bottom: 4px;\n",
              "    }\n",
              "\n",
              "    [theme=dark] .colab-df-convert {\n",
              "      background-color: #3B4455;\n",
              "      fill: #D2E3FC;\n",
              "    }\n",
              "\n",
              "    [theme=dark] .colab-df-convert:hover {\n",
              "      background-color: #434B5C;\n",
              "      box-shadow: 0px 1px 3px 1px rgba(0, 0, 0, 0.15);\n",
              "      filter: drop-shadow(0px 1px 2px rgba(0, 0, 0, 0.3));\n",
              "      fill: #FFFFFF;\n",
              "    }\n",
              "  </style>\n",
              "\n",
              "    <script>\n",
              "      const buttonEl =\n",
              "        document.querySelector('#df-7bb71923-d6b5-4951-93fd-5883dc55c6b3 button.colab-df-convert');\n",
              "      buttonEl.style.display =\n",
              "        google.colab.kernel.accessAllowed ? 'block' : 'none';\n",
              "\n",
              "      async function convertToInteractive(key) {\n",
              "        const element = document.querySelector('#df-7bb71923-d6b5-4951-93fd-5883dc55c6b3');\n",
              "        const dataTable =\n",
              "          await google.colab.kernel.invokeFunction('convertToInteractive',\n",
              "                                                    [key], {});\n",
              "        if (!dataTable) return;\n",
              "\n",
              "        const docLinkHtml = 'Like what you see? Visit the ' +\n",
              "          '<a target=\"_blank\" href=https://colab.research.google.com/notebooks/data_table.ipynb>data table notebook</a>'\n",
              "          + ' to learn more about interactive tables.';\n",
              "        element.innerHTML = '';\n",
              "        dataTable['output_type'] = 'display_data';\n",
              "        await google.colab.output.renderOutput(dataTable, element);\n",
              "        const docLink = document.createElement('div');\n",
              "        docLink.innerHTML = docLinkHtml;\n",
              "        element.appendChild(docLink);\n",
              "      }\n",
              "    </script>\n",
              "  </div>\n",
              "\n",
              "\n",
              "<div id=\"df-216a4f01-399b-427b-aee4-344308c960af\">\n",
              "  <button class=\"colab-df-quickchart\" onclick=\"quickchart('df-216a4f01-399b-427b-aee4-344308c960af')\"\n",
              "            title=\"Suggest charts\"\n",
              "            style=\"display:none;\">\n",
              "\n",
              "<svg xmlns=\"http://www.w3.org/2000/svg\" height=\"24px\"viewBox=\"0 0 24 24\"\n",
              "     width=\"24px\">\n",
              "    <g>\n",
              "        <path d=\"M19 3H5c-1.1 0-2 .9-2 2v14c0 1.1.9 2 2 2h14c1.1 0 2-.9 2-2V5c0-1.1-.9-2-2-2zM9 17H7v-7h2v7zm4 0h-2V7h2v10zm4 0h-2v-4h2v4z\"/>\n",
              "    </g>\n",
              "</svg>\n",
              "  </button>\n",
              "\n",
              "<style>\n",
              "  .colab-df-quickchart {\n",
              "      --bg-color: #E8F0FE;\n",
              "      --fill-color: #1967D2;\n",
              "      --hover-bg-color: #E2EBFA;\n",
              "      --hover-fill-color: #174EA6;\n",
              "      --disabled-fill-color: #AAA;\n",
              "      --disabled-bg-color: #DDD;\n",
              "  }\n",
              "\n",
              "  [theme=dark] .colab-df-quickchart {\n",
              "      --bg-color: #3B4455;\n",
              "      --fill-color: #D2E3FC;\n",
              "      --hover-bg-color: #434B5C;\n",
              "      --hover-fill-color: #FFFFFF;\n",
              "      --disabled-bg-color: #3B4455;\n",
              "      --disabled-fill-color: #666;\n",
              "  }\n",
              "\n",
              "  .colab-df-quickchart {\n",
              "    background-color: var(--bg-color);\n",
              "    border: none;\n",
              "    border-radius: 50%;\n",
              "    cursor: pointer;\n",
              "    display: none;\n",
              "    fill: var(--fill-color);\n",
              "    height: 32px;\n",
              "    padding: 0;\n",
              "    width: 32px;\n",
              "  }\n",
              "\n",
              "  .colab-df-quickchart:hover {\n",
              "    background-color: var(--hover-bg-color);\n",
              "    box-shadow: 0 1px 2px rgba(60, 64, 67, 0.3), 0 1px 3px 1px rgba(60, 64, 67, 0.15);\n",
              "    fill: var(--button-hover-fill-color);\n",
              "  }\n",
              "\n",
              "  .colab-df-quickchart-complete:disabled,\n",
              "  .colab-df-quickchart-complete:disabled:hover {\n",
              "    background-color: var(--disabled-bg-color);\n",
              "    fill: var(--disabled-fill-color);\n",
              "    box-shadow: none;\n",
              "  }\n",
              "\n",
              "  .colab-df-spinner {\n",
              "    border: 2px solid var(--fill-color);\n",
              "    border-color: transparent;\n",
              "    border-bottom-color: var(--fill-color);\n",
              "    animation:\n",
              "      spin 1s steps(1) infinite;\n",
              "  }\n",
              "\n",
              "  @keyframes spin {\n",
              "    0% {\n",
              "      border-color: transparent;\n",
              "      border-bottom-color: var(--fill-color);\n",
              "      border-left-color: var(--fill-color);\n",
              "    }\n",
              "    20% {\n",
              "      border-color: transparent;\n",
              "      border-left-color: var(--fill-color);\n",
              "      border-top-color: var(--fill-color);\n",
              "    }\n",
              "    30% {\n",
              "      border-color: transparent;\n",
              "      border-left-color: var(--fill-color);\n",
              "      border-top-color: var(--fill-color);\n",
              "      border-right-color: var(--fill-color);\n",
              "    }\n",
              "    40% {\n",
              "      border-color: transparent;\n",
              "      border-right-color: var(--fill-color);\n",
              "      border-top-color: var(--fill-color);\n",
              "    }\n",
              "    60% {\n",
              "      border-color: transparent;\n",
              "      border-right-color: var(--fill-color);\n",
              "    }\n",
              "    80% {\n",
              "      border-color: transparent;\n",
              "      border-right-color: var(--fill-color);\n",
              "      border-bottom-color: var(--fill-color);\n",
              "    }\n",
              "    90% {\n",
              "      border-color: transparent;\n",
              "      border-bottom-color: var(--fill-color);\n",
              "    }\n",
              "  }\n",
              "</style>\n",
              "\n",
              "  <script>\n",
              "    async function quickchart(key) {\n",
              "      const quickchartButtonEl =\n",
              "        document.querySelector('#' + key + ' button');\n",
              "      quickchartButtonEl.disabled = true;  // To prevent multiple clicks.\n",
              "      quickchartButtonEl.classList.add('colab-df-spinner');\n",
              "      try {\n",
              "        const charts = await google.colab.kernel.invokeFunction(\n",
              "            'suggestCharts', [key], {});\n",
              "      } catch (error) {\n",
              "        console.error('Error during call to suggestCharts:', error);\n",
              "      }\n",
              "      quickchartButtonEl.classList.remove('colab-df-spinner');\n",
              "      quickchartButtonEl.classList.add('colab-df-quickchart-complete');\n",
              "    }\n",
              "    (() => {\n",
              "      let quickchartButtonEl =\n",
              "        document.querySelector('#df-216a4f01-399b-427b-aee4-344308c960af button');\n",
              "      quickchartButtonEl.style.display =\n",
              "        google.colab.kernel.accessAllowed ? 'block' : 'none';\n",
              "    })();\n",
              "  </script>\n",
              "</div>\n",
              "    </div>\n",
              "  </div>\n"
            ],
            "application/vnd.google.colaboratory.intrinsic+json": {
              "type": "dataframe",
              "variable_name": "df_test",
              "summary": "{\n  \"name\": \"df_test\",\n  \"rows\": 1000,\n  \"fields\": [\n    {\n      \"column\": \"S\",\n      \"properties\": {\n        \"dtype\": \"number\",\n        \"std\": 0.2907442500468477,\n        \"min\": 0.0005459648969956543,\n        \"max\": 0.9998085781169653,\n        \"num_unique_values\": 1000,\n        \"samples\": [\n          0.2826996509455366,\n          0.52437981107722,\n          0.04680635471218875\n        ],\n        \"semantic_type\": \"\",\n        \"description\": \"\"\n      }\n    },\n    {\n      \"column\": \"Q\",\n      \"properties\": {\n        \"dtype\": \"number\",\n        \"std\": 0.2090037446807425,\n        \"min\": 0.02062337923493783,\n        \"max\": 0.8619516493814515,\n        \"num_unique_values\": 1000,\n        \"samples\": [\n          0.6468086309158152,\n          0.6581205485486986,\n          0.41218386858436634\n        ],\n        \"semantic_type\": \"\",\n        \"description\": \"\"\n      }\n    },\n    {\n      \"column\": \"X\",\n      \"properties\": {\n        \"dtype\": \"number\",\n        \"std\": 0.11858692653149155,\n        \"min\": 0.014046857041980412,\n        \"max\": 0.5084713293277281,\n        \"num_unique_values\": 1000,\n        \"samples\": [\n          0.16689320999387575,\n          0.13885967966187396,\n          0.09550065325876493\n        ],\n        \"semantic_type\": \"\",\n        \"description\": \"\"\n      }\n    },\n    {\n      \"column\": \"Y\",\n      \"properties\": {\n        \"dtype\": \"number\",\n        \"std\": 0.1535553212984366,\n        \"min\": 0.10974446933761733,\n        \"max\": 0.8856496699205871,\n        \"num_unique_values\": 1000,\n        \"samples\": [\n          0.3072149408578939,\n          0.5277863322517596,\n          0.13501027754298003\n        ],\n        \"semantic_type\": \"\",\n        \"description\": \"\"\n      }\n    },\n    {\n      \"column\": \"P\",\n      \"properties\": {\n        \"dtype\": \"number\",\n        \"std\": 0.09594678787210147,\n        \"min\": 0.07312061205132689,\n        \"max\": 0.5866257178687596,\n        \"num_unique_values\": 1000,\n        \"samples\": [\n          0.33256282431788203,\n          0.3566143145319202,\n          0.08065718872997342\n        ],\n        \"semantic_type\": \"\",\n        \"description\": \"\"\n      }\n    }\n  ]\n}"
            }
          },
          "metadata": {},
          "execution_count": 19
        }
      ]
    },
    {
      "cell_type": "markdown",
      "source": [
        "# 4. GCM API"
      ],
      "metadata": {
        "id": "a1kPwfzbLjkz"
      }
    },
    {
      "cell_type": "code",
      "source": [
        "import networkx as nx\n",
        "from dowhy import gcm"
      ],
      "metadata": {
        "id": "FqtlVJxnJnR9"
      },
      "execution_count": null,
      "outputs": []
    },
    {
      "cell_type": "code",
      "source": [
        "COLORS = [\n",
        "    '#00B0F0',\n",
        "    '#FF0000'\n",
        "]"
      ],
      "metadata": {
        "id": "ZiyeOKtFLyir"
      },
      "execution_count": null,
      "outputs": []
    },
    {
      "cell_type": "code",
      "source": [
        "edges = ['SQ', 'SY', 'QX', 'QY', 'XP', 'YP', 'XY']\n",
        "graph_nx = nx.DiGraph([(edge[0], edge[1]) for edge in edges])"
      ],
      "metadata": {
        "id": "qvIJQ6KMJnUW"
      },
      "execution_count": null,
      "outputs": []
    },
    {
      "cell_type": "code",
      "source": [
        "nx.draw(\n",
        "    graph_nx,\n",
        "    with_labels=True,\n",
        "    node_size=900,\n",
        "    font_color='white',\n",
        "    node_color=COLORS[0]\n",
        ")"
      ],
      "metadata": {
        "id": "Bh7AUlPjQaea",
        "colab": {
          "base_uri": "https://localhost:8080/",
          "height": 516
        },
        "outputId": "ff977b59-cb76-45b3-b030-c94594f286bc"
      },
      "execution_count": null,
      "outputs": [
        {
          "output_type": "display_data",
          "data": {
            "text/plain": [
              "<Figure size 640x480 with 1 Axes>"
            ],
            "image/png": "[encoded data removed]"
          },
          "metadata": {}
        }
      ]
    },
    {
      "cell_type": "code",
      "source": [
        "causal_model = gcm.InvertibleStructuralCausalModel(graph_nx)"
      ],
      "metadata": {
        "id": "HQCBe_RXLrCL"
      },
      "execution_count": null,
      "outputs": []
    },
    {
      "cell_type": "code",
      "source": [
        "causal_model.set_causal_mechanism('S', gcm.EmpiricalDistribution())\n",
        "causal_model.set_causal_mechanism('X', gcm.AdditiveNoiseModel(gcm.ml.create_linear_regressor()))\n",
        "causal_model.set_causal_mechanism('Y', gcm.AdditiveNoiseModel(gcm.ml.create_linear_regressor()))\n",
        "causal_model.set_causal_mechanism('P', gcm.AdditiveNoiseModel(gcm.ml.create_linear_regressor()))\n",
        "causal_model.set_causal_mechanism('Q', gcm.AdditiveNoiseModel(gcm.ml.create_linear_regressor()))\n",
        "\n",
        "gcm.fit(causal_model, df)"
      ],
      "metadata": {
        "colab": {
          "base_uri": "https://localhost:8080/"
        },
        "id": "4bNkP5tLLrEx",
        "outputId": "3a1a5898-3bf5-49df-b821-7501f945add4"
      },
      "execution_count": null,
      "outputs": [
        {
          "output_type": "stream",
          "name": "stderr",
          "text": [
            "Fitting causal mechanism of node P: 100%|██████████| 5/5 [00:00<00:00, 51.41it/s]\n"
          ]
        }
      ]
    },
    {
      "cell_type": "code",
      "source": [
        "# Get arrow strength\n",
        "# By default, arrow_strength employs KL divergence for measuring the arrow strength for categorical target\n",
        "# Results in terms of the ouctome variable variance chnage given we remove the edge from the source variable\n",
        "gcm.arrow_strength(causal_model, 'Y')"
      ],
      "metadata": {
        "colab": {
          "base_uri": "https://localhost:8080/"
        },
        "id": "74RAlnRLLrHW",
        "outputId": "36d5bfaf-2c22-4d06-d3e4-1e75be9d4ea1"
      },
      "execution_count": null,
      "outputs": [
        {
          "output_type": "execute_result",
          "data": {
            "text/plain": [
              "{('Q', 'Y'): 0.00046328184101239385,\n",
              " ('S', 'Y'): 0.008028641805887254,\n",
              " ('X', 'Y'): 0.007329338898069036}"
            ]
          },
          "metadata": {},
          "execution_count": 26
        }
      ]
    },
    {
      "cell_type": "code",
      "source": [
        "# Generate counterfactual samples (I)\n",
        "gcm.counterfactual_samples(\n",
        "    causal_model,\n",
        "    {'X': lambda x: .21},\n",
        "    observed_data=pd.DataFrame(data=dict(X=[.5], Y=[.75], S=[.5], Q=[.4], P=[.34])))"
      ],
      "metadata": {
        "colab": {
          "base_uri": "https://localhost:8080/",
          "height": 81
        },
        "id": "X063qQldLrJk",
        "outputId": "8869f207-aff8-4a53-dfde-c18958b3ac8c"
      },
      "execution_count": null,
      "outputs": [
        {
          "output_type": "execute_result",
          "data": {
            "text/plain": [
              "     S    Q     X         Y        P\n",
              "0  0.5  0.4  0.21  0.546308  0.16978"
            ],
            "text/html": [
              "\n",
              "  <div id=\"df-8289e665-2e2f-4715-8e38-68aee10dfca5\" class=\"colab-df-container\">\n",
              "    <div>\n",
              "<style scoped>\n",
              "    .dataframe tbody tr th:only-of-type {\n",
              "        vertical-align: middle;\n",
              "    }\n",
              "\n",
              "    .dataframe tbody tr th {\n",
              "        vertical-align: top;\n",
              "    }\n",
              "\n",
              "    .dataframe thead th {\n",
              "        text-align: right;\n",
              "    }\n",
              "</style>\n",
              "<table border=\"1\" class=\"dataframe\">\n",
              "  <thead>\n",
              "    <tr style=\"text-align: right;\">\n",
              "      <th></th>\n",
              "      <th>S</th>\n",
              "      <th>Q</th>\n",
              "      <th>X</th>\n",
              "      <th>Y</th>\n",
              "      <th>P</th>\n",
              "    </tr>\n",
              "  </thead>\n",
              "  <tbody>\n",
              "    <tr>\n",
              "      <th>0</th>\n",
              "      <td>0.5</td>\n",
              "      <td>0.4</td>\n",
              "      <td>0.21</td>\n",
              "      <td>0.546308</td>\n",
              "      <td>0.16978</td>\n",
              "    </tr>\n",
              "  </tbody>\n",
              "</table>\n",
              "</div>\n",
              "    <div class=\"colab-df-buttons\">\n",
              "\n",
              "  <div class=\"colab-df-container\">\n",
              "    <button class=\"colab-df-convert\" onclick=\"convertToInteractive('df-8289e665-2e2f-4715-8e38-68aee10dfca5')\"\n",
              "            title=\"Convert this dataframe to an interactive table.\"\n",
              "            style=\"display:none;\">\n",
              "\n",
              "  <svg xmlns=\"http://www.w3.org/2000/svg\" height=\"24px\" viewBox=\"0 -960 960 960\">\n",
              "    <path d=\"M120-120v-720h720v720H120Zm60-500h600v-160H180v160Zm220 220h160v-160H400v160Zm0 220h160v-160H400v160ZM180-400h160v-160H180v160Zm440 0h160v-160H620v160ZM180-180h160v-160H180v160Zm440 0h160v-160H620v160Z\"/>\n",
              "  </svg>\n",
              "    </button>\n",
              "\n",
              "  <style>\n",
              "    .colab-df-container {\n",
              "      display:flex;\n",
              "      gap: 12px;\n",
              "    }\n",
              "\n",
              "    .colab-df-convert {\n",
              "      background-color: #E8F0FE;\n",
              "      border: none;\n",
              "      border-radius: 50%;\n",
              "      cursor: pointer;\n",
              "      display: none;\n",
              "      fill: #1967D2;\n",
              "      height: 32px;\n",
              "      padding: 0 0 0 0;\n",
              "      width: 32px;\n",
              "    }\n",
              "\n",
              "    .colab-df-convert:hover {\n",
              "      background-color: #E2EBFA;\n",
              "      box-shadow: 0px 1px 2px rgba(60, 64, 67, 0.3), 0px 1px 3px 1px rgba(60, 64, 67, 0.15);\n",
              "      fill: #174EA6;\n",
              "    }\n",
              "\n",
              "    .colab-df-buttons div {\n",
              "      margin-bottom: 4px;\n",
              "    }\n",
              "\n",
              "    [theme=dark] .colab-df-convert {\n",
              "      background-color: #3B4455;\n",
              "      fill: #D2E3FC;\n",
              "    }\n",
              "\n",
              "    [theme=dark] .colab-df-convert:hover {\n",
              "      background-color: #434B5C;\n",
              "      box-shadow: 0px 1px 3px 1px rgba(0, 0, 0, 0.15);\n",
              "      filter: drop-shadow(0px 1px 2px rgba(0, 0, 0, 0.3));\n",
              "      fill: #FFFFFF;\n",
              "    }\n",
              "  </style>\n",
              "\n",
              "    <script>\n",
              "      const buttonEl =\n",
              "        document.querySelector('#df-8289e665-2e2f-4715-8e38-68aee10dfca5 button.colab-df-convert');\n",
              "      buttonEl.style.display =\n",
              "        google.colab.kernel.accessAllowed ? 'block' : 'none';\n",
              "\n",
              "      async function convertToInteractive(key) {\n",
              "        const element = document.querySelector('#df-8289e665-2e2f-4715-8e38-68aee10dfca5');\n",
              "        const dataTable =\n",
              "          await google.colab.kernel.invokeFunction('convertToInteractive',\n",
              "                                                    [key], {});\n",
              "        if (!dataTable) return;\n",
              "\n",
              "        const docLinkHtml = 'Like what you see? Visit the ' +\n",
              "          '<a target=\"_blank\" href=https://colab.research.google.com/notebooks/data_table.ipynb>data table notebook</a>'\n",
              "          + ' to learn more about interactive tables.';\n",
              "        element.innerHTML = '';\n",
              "        dataTable['output_type'] = 'display_data';\n",
              "        await google.colab.output.renderOutput(dataTable, element);\n",
              "        const docLink = document.createElement('div');\n",
              "        docLink.innerHTML = docLinkHtml;\n",
              "        element.appendChild(docLink);\n",
              "      }\n",
              "    </script>\n",
              "  </div>\n",
              "\n",
              "    </div>\n",
              "  </div>\n"
            ]
          },
          "metadata": {},
          "execution_count": 27
        }
      ]
    },
    {
      "cell_type": "code",
      "source": [
        "# Generate counterfactual samples (II) - coeff X\n",
        "original_Y = .75\n",
        "df = gcm.counterfactual_samples(\n",
        "    causal_model,\n",
        "    {'X': lambda x: 1},\n",
        "    observed_data=pd.DataFrame(data=dict(X=[2], Y=[original_Y], S=[.5], Q=[.4], P=[.34])))\n",
        "display(df)\n",
        "print(f\"Coeff X: {np.abs(original_Y - df['Y'].values[0])}\")"
      ],
      "metadata": {
        "colab": {
          "base_uri": "https://localhost:8080/",
          "height": 99
        },
        "id": "RIKXNc92N7IS",
        "outputId": "c5792ac6-ff69-4af4-fae2-e55f14d22ee0"
      },
      "execution_count": null,
      "outputs": [
        {
          "output_type": "display_data",
          "data": {
            "text/plain": [
              "     S    Q  X         Y         P\n",
              "0  0.5  0.4  1  0.047614 -0.246964"
            ],
            "text/html": [
              "\n",
              "  <div id=\"df-c9e8ddbc-3bae-4133-8b63-ee6b7982f781\" class=\"colab-df-container\">\n",
              "    <div>\n",
              "<style scoped>\n",
              "    .dataframe tbody tr th:only-of-type {\n",
              "        vertical-align: middle;\n",
              "    }\n",
              "\n",
              "    .dataframe tbody tr th {\n",
              "        vertical-align: top;\n",
              "    }\n",
              "\n",
              "    .dataframe thead th {\n",
              "        text-align: right;\n",
              "    }\n",
              "</style>\n",
              "<table border=\"1\" class=\"dataframe\">\n",
              "  <thead>\n",
              "    <tr style=\"text-align: right;\">\n",
              "      <th></th>\n",
              "      <th>S</th>\n",
              "      <th>Q</th>\n",
              "      <th>X</th>\n",
              "      <th>Y</th>\n",
              "      <th>P</th>\n",
              "    </tr>\n",
              "  </thead>\n",
              "  <tbody>\n",
              "    <tr>\n",
              "      <th>0</th>\n",
              "      <td>0.5</td>\n",
              "      <td>0.4</td>\n",
              "      <td>1</td>\n",
              "      <td>0.047614</td>\n",
              "      <td>-0.246964</td>\n",
              "    </tr>\n",
              "  </tbody>\n",
              "</table>\n",
              "</div>\n",
              "    <div class=\"colab-df-buttons\">\n",
              "\n",
              "  <div class=\"colab-df-container\">\n",
              "    <button class=\"colab-df-convert\" onclick=\"convertToInteractive('df-c9e8ddbc-3bae-4133-8b63-ee6b7982f781')\"\n",
              "            title=\"Convert this dataframe to an interactive table.\"\n",
              "            style=\"display:none;\">\n",
              "\n",
              "  <svg xmlns=\"http://www.w3.org/2000/svg\" height=\"24px\" viewBox=\"0 -960 960 960\">\n",
              "    <path d=\"M120-120v-720h720v720H120Zm60-500h600v-160H180v160Zm220 220h160v-160H400v160Zm0 220h160v-160H400v160ZM180-400h160v-160H180v160Zm440 0h160v-160H620v160ZM180-180h160v-160H180v160Zm440 0h160v-160H620v160Z\"/>\n",
              "  </svg>\n",
              "    </button>\n",
              "\n",
              "  <style>\n",
              "    .colab-df-container {\n",
              "      display:flex;\n",
              "      gap: 12px;\n",
              "    }\n",
              "\n",
              "    .colab-df-convert {\n",
              "      background-color: #E8F0FE;\n",
              "      border: none;\n",
              "      border-radius: 50%;\n",
              "      cursor: pointer;\n",
              "      display: none;\n",
              "      fill: #1967D2;\n",
              "      height: 32px;\n",
              "      padding: 0 0 0 0;\n",
              "      width: 32px;\n",
              "    }\n",
              "\n",
              "    .colab-df-convert:hover {\n",
              "      background-color: #E2EBFA;\n",
              "      box-shadow: 0px 1px 2px rgba(60, 64, 67, 0.3), 0px 1px 3px 1px rgba(60, 64, 67, 0.15);\n",
              "      fill: #174EA6;\n",
              "    }\n",
              "\n",
              "    .colab-df-buttons div {\n",
              "      margin-bottom: 4px;\n",
              "    }\n",
              "\n",
              "    [theme=dark] .colab-df-convert {\n",
              "      background-color: #3B4455;\n",
              "      fill: #D2E3FC;\n",
              "    }\n",
              "\n",
              "    [theme=dark] .colab-df-convert:hover {\n",
              "      background-color: #434B5C;\n",
              "      box-shadow: 0px 1px 3px 1px rgba(0, 0, 0, 0.15);\n",
              "      filter: drop-shadow(0px 1px 2px rgba(0, 0, 0, 0.3));\n",
              "      fill: #FFFFFF;\n",
              "    }\n",
              "  </style>\n",
              "\n",
              "    <script>\n",
              "      const buttonEl =\n",
              "        document.querySelector('#df-c9e8ddbc-3bae-4133-8b63-ee6b7982f781 button.colab-df-convert');\n",
              "      buttonEl.style.display =\n",
              "        google.colab.kernel.accessAllowed ? 'block' : 'none';\n",
              "\n",
              "      async function convertToInteractive(key) {\n",
              "        const element = document.querySelector('#df-c9e8ddbc-3bae-4133-8b63-ee6b7982f781');\n",
              "        const dataTable =\n",
              "          await google.colab.kernel.invokeFunction('convertToInteractive',\n",
              "                                                    [key], {});\n",
              "        if (!dataTable) return;\n",
              "\n",
              "        const docLinkHtml = 'Like what you see? Visit the ' +\n",
              "          '<a target=\"_blank\" href=https://colab.research.google.com/notebooks/data_table.ipynb>data table notebook</a>'\n",
              "          + ' to learn more about interactive tables.';\n",
              "        element.innerHTML = '';\n",
              "        dataTable['output_type'] = 'display_data';\n",
              "        await google.colab.output.renderOutput(dataTable, element);\n",
              "        const docLink = document.createElement('div');\n",
              "        docLink.innerHTML = docLinkHtml;\n",
              "        element.appendChild(docLink);\n",
              "      }\n",
              "    </script>\n",
              "  </div>\n",
              "\n",
              "    </div>\n",
              "  </div>\n"
            ]
          },
          "metadata": {}
        },
        {
          "output_type": "stream",
          "name": "stdout",
          "text": [
            "Coeff X: 0.7023855377507204\n"
          ]
        }
      ]
    },
    {
      "cell_type": "code",
      "source": [
        "# Generate counterfactual samples (II) - coeff S\n",
        "original_Y = .75\n",
        "df = gcm.counterfactual_samples(\n",
        "    causal_model,\n",
        "    {'S': lambda x: 1},\n",
        "    observed_data=pd.DataFrame(data=dict(X=[0.5], Y=[original_Y], S=[2], Q=[.4], P=[.34])))\n",
        "display(df)\n",
        "print(f\"Coeff S: {np.abs(original_Y - df['Y'].values[0])}\")"
      ],
      "metadata": {
        "colab": {
          "base_uri": "https://localhost:8080/",
          "height": 99
        },
        "id": "PSlyXz77Oimh",
        "outputId": "6fdb06e5-2535-4361-eba8-8bb033734aa5"
      },
      "execution_count": null,
      "outputs": [
        {
          "output_type": "display_data",
          "data": {
            "text/plain": [
              "   S         Q         X         Y         P\n",
              "0  1  0.228772  0.478041  0.404159  0.263589"
            ],
            "text/html": [
              "\n",
              "  <div id=\"df-21618aae-5554-4414-9734-bc0785d04efe\" class=\"colab-df-container\">\n",
              "    <div>\n",
              "<style scoped>\n",
              "    .dataframe tbody tr th:only-of-type {\n",
              "        vertical-align: middle;\n",
              "    }\n",
              "\n",
              "    .dataframe tbody tr th {\n",
              "        vertical-align: top;\n",
              "    }\n",
              "\n",
              "    .dataframe thead th {\n",
              "        text-align: right;\n",
              "    }\n",
              "</style>\n",
              "<table border=\"1\" class=\"dataframe\">\n",
              "  <thead>\n",
              "    <tr style=\"text-align: right;\">\n",
              "      <th></th>\n",
              "      <th>S</th>\n",
              "      <th>Q</th>\n",
              "      <th>X</th>\n",
              "      <th>Y</th>\n",
              "      <th>P</th>\n",
              "    </tr>\n",
              "  </thead>\n",
              "  <tbody>\n",
              "    <tr>\n",
              "      <th>0</th>\n",
              "      <td>1</td>\n",
              "      <td>0.228772</td>\n",
              "      <td>0.478041</td>\n",
              "      <td>0.404159</td>\n",
              "      <td>0.263589</td>\n",
              "    </tr>\n",
              "  </tbody>\n",
              "</table>\n",
              "</div>\n",
              "    <div class=\"colab-df-buttons\">\n",
              "\n",
              "  <div class=\"colab-df-container\">\n",
              "    <button class=\"colab-df-convert\" onclick=\"convertToInteractive('df-21618aae-5554-4414-9734-bc0785d04efe')\"\n",
              "            title=\"Convert this dataframe to an interactive table.\"\n",
              "            style=\"display:none;\">\n",
              "\n",
              "  <svg xmlns=\"http://www.w3.org/2000/svg\" height=\"24px\" viewBox=\"0 -960 960 960\">\n",
              "    <path d=\"M120-120v-720h720v720H120Zm60-500h600v-160H180v160Zm220 220h160v-160H400v160Zm0 220h160v-160H400v160ZM180-400h160v-160H180v160Zm440 0h160v-160H620v160ZM180-180h160v-160H180v160Zm440 0h160v-160H620v160Z\"/>\n",
              "  </svg>\n",
              "    </button>\n",
              "\n",
              "  <style>\n",
              "    .colab-df-container {\n",
              "      display:flex;\n",
              "      gap: 12px;\n",
              "    }\n",
              "\n",
              "    .colab-df-convert {\n",
              "      background-color: #E8F0FE;\n",
              "      border: none;\n",
              "      border-radius: 50%;\n",
              "      cursor: pointer;\n",
              "      display: none;\n",
              "      fill: #1967D2;\n",
              "      height: 32px;\n",
              "      padding: 0 0 0 0;\n",
              "      width: 32px;\n",
              "    }\n",
              "\n",
              "    .colab-df-convert:hover {\n",
              "      background-color: #E2EBFA;\n",
              "      box-shadow: 0px 1px 2px rgba(60, 64, 67, 0.3), 0px 1px 3px 1px rgba(60, 64, 67, 0.15);\n",
              "      fill: #174EA6;\n",
              "    }\n",
              "\n",
              "    .colab-df-buttons div {\n",
              "      margin-bottom: 4px;\n",
              "    }\n",
              "\n",
              "    [theme=dark] .colab-df-convert {\n",
              "      background-color: #3B4455;\n",
              "      fill: #D2E3FC;\n",
              "    }\n",
              "\n",
              "    [theme=dark] .colab-df-convert:hover {\n",
              "      background-color: #434B5C;\n",
              "      box-shadow: 0px 1px 3px 1px rgba(0, 0, 0, 0.15);\n",
              "      filter: drop-shadow(0px 1px 2px rgba(0, 0, 0, 0.3));\n",
              "      fill: #FFFFFF;\n",
              "    }\n",
              "  </style>\n",
              "\n",
              "    <script>\n",
              "      const buttonEl =\n",
              "        document.querySelector('#df-21618aae-5554-4414-9734-bc0785d04efe button.colab-df-convert');\n",
              "      buttonEl.style.display =\n",
              "        google.colab.kernel.accessAllowed ? 'block' : 'none';\n",
              "\n",
              "      async function convertToInteractive(key) {\n",
              "        const element = document.querySelector('#df-21618aae-5554-4414-9734-bc0785d04efe');\n",
              "        const dataTable =\n",
              "          await google.colab.kernel.invokeFunction('convertToInteractive',\n",
              "                                                    [key], {});\n",
              "        if (!dataTable) return;\n",
              "\n",
              "        const docLinkHtml = 'Like what you see? Visit the ' +\n",
              "          '<a target=\"_blank\" href=https://colab.research.google.com/notebooks/data_table.ipynb>data table notebook</a>'\n",
              "          + ' to learn more about interactive tables.';\n",
              "        element.innerHTML = '';\n",
              "        dataTable['output_type'] = 'display_data';\n",
              "        await google.colab.output.renderOutput(dataTable, element);\n",
              "        const docLink = document.createElement('div');\n",
              "        docLink.innerHTML = docLinkHtml;\n",
              "        element.appendChild(docLink);\n",
              "      }\n",
              "    </script>\n",
              "  </div>\n",
              "\n",
              "    </div>\n",
              "  </div>\n"
            ]
          },
          "metadata": {}
        },
        {
          "output_type": "stream",
          "name": "stdout",
          "text": [
            "Coeff S: 0.34584132647511545\n"
          ]
        }
      ]
    },
    {
      "cell_type": "code",
      "source": [
        "#def mean_diff(Y_old, Y_new): return np.mean(Y_new) - np.mean(Y_old)\n",
        "#gcm.arrow_strength(causal_model, 'Y', difference_estimation_func=mean_diff)"
      ],
      "metadata": {
        "colab": {
          "base_uri": "https://localhost:8080/"
        },
        "id": "8gPCKk3zLrL9",
        "outputId": "8193ec42-9426-488d-b1fa-1f0366f0b194"
      },
      "execution_count": null,
      "outputs": [
        {
          "output_type": "execute_result",
          "data": {
            "text/plain": [
              "{('Q', 'Y'): 0.000647831459594639,\n",
              " ('S', 'Y'): 0.009415088570715945,\n",
              " ('X', 'Y'): -0.0012906230284506347}"
            ]
          },
          "metadata": {},
          "execution_count": 28
        }
      ]
    },
    {
      "cell_type": "code",
      "source": [
        "# TODO: Expresarlo como coefficientes análogos a los de regresión"
      ],
      "metadata": {
        "id": "qiyeZeU4MZ7b"
      },
      "execution_count": null,
      "outputs": []
    },
    {
      "cell_type": "markdown",
      "source": [
        "# 5. Causal Inference - Otros modelos"
      ],
      "metadata": {
        "id": "i7IjuwT2Xkv0"
      }
    },
    {
      "cell_type": "code",
      "source": [
        "import shap\n",
        "\n",
        "from econml.dml import CausalForestDML\n",
        "from sklearn.linear_model import MultiTaskLassoCV, LassoCV\n",
        "from econml.dr import LinearDRLearner\n",
        "from lightgbm import LGBMRegressor\n",
        "from sklearn.model_selection import train_test_split"
      ],
      "metadata": {
        "id": "7MmMO2_IYDuJ"
      },
      "execution_count": null,
      "outputs": []
    },
    {
      "cell_type": "code",
      "source": [
        "# Instantiate model\n",
        "model = CausalModel(\n",
        "    data=df,\n",
        "    treatment='X',\n",
        "    outcome='Y',\n",
        "    graph=gml_string\n",
        ")\n",
        "model.view_model()"
      ],
      "metadata": {
        "colab": {
          "base_uri": "https://localhost:8080/",
          "height": 499
        },
        "id": "sOnCcVSXYXMr",
        "outputId": "76cacd09-cd8c-4033-ef3d-9cee5e7d5adc"
      },
      "execution_count": null,
      "outputs": [
        {
          "output_type": "display_data",
          "data": {
            "text/plain": [
              "<Figure size 800x600 with 1 Axes>"
            ],
            "image/png": "[encoded data removed]"
          },
          "metadata": {}
        }
      ]
    },
    {
      "cell_type": "code",
      "source": [
        "# 2. Getting the estimand\n",
        "estimand = model.identify_effect()\n",
        "print(estimand)"
      ],
      "metadata": {
        "colab": {
          "base_uri": "https://localhost:8080/"
        },
        "id": "gB41Z5adYZ6Y",
        "outputId": "fc6389d3-5e13-4bde-9140-fc32598f8f25"
      },
      "execution_count": null,
      "outputs": [
        {
          "output_type": "stream",
          "name": "stdout",
          "text": [
            "Estimand type: EstimandType.NONPARAMETRIC_ATE\n",
            "\n",
            "### Estimand : 1\n",
            "Estimand name: backdoor\n",
            "Estimand expression:\n",
            " d          \n",
            "────(E[Y|Q])\n",
            "d[X]        \n",
            "Estimand assumption 1, Unconfoundedness: If U→{X} and U→Y then P(Y|X,Q,U) = P(Y|X,Q)\n",
            "\n",
            "### Estimand : 2\n",
            "Estimand name: iv\n",
            "No such variable(s) found!\n",
            "\n",
            "### Estimand : 3\n",
            "Estimand name: frontdoor\n",
            "No such variable(s) found!\n",
            "\n"
          ]
        }
      ]
    },
    {
      "cell_type": "code",
      "source": [
        "# 3. Getting the estimate\n",
        "estimate = model.estimate_effect(\n",
        "    identified_estimand=estimand,\n",
        "    method_name='backdoor.econml.dml.DML',\n",
        "    method_params={\n",
        "        'init_params': {\n",
        "            'model_y': LGBMRegressor(),\n",
        "            'model_t': LGBMRegressor(),\n",
        "            'model_final': LassoCV(fit_intercept=False)\n",
        "        },\n",
        "        'fit_params':{}\n",
        "    }\n",
        ")"
      ],
      "metadata": {
        "id": "mHsHhC-IXkUj"
      },
      "execution_count": null,
      "outputs": []
    },
    {
      "cell_type": "code",
      "source": [
        "print(f\"Estimate of causal effect (DML): {estimate.value}\")"
      ],
      "metadata": {
        "colab": {
          "base_uri": "https://localhost:8080/"
        },
        "id": "Qn3gyxQ2XkYT",
        "outputId": "133629fc-0d9b-4f3b-f30e-8b4ec2a0820c"
      },
      "execution_count": null,
      "outputs": [
        {
          "output_type": "stream",
          "name": "stdout",
          "text": [
            "Estimate of causal effect (DML): 0.6969388496310024\n"
          ]
        }
      ]
    },
    {
      "cell_type": "code",
      "source": [
        "# Based on: https://towardsdatascience.com/causal-machine-learning-for-econometrics-causal-forests-5ab3aec825a7\n",
        "\n",
        "# set parameters for causal forest\n",
        "causal_forest = CausalForestDML(\n",
        "    criterion='het',\n",
        "    n_estimators=500,\n",
        "    min_samples_leaf=10,\n",
        "    max_depth=None,\n",
        "    max_samples=0.5,\n",
        "    discrete_treatment=False,\n",
        "    honest=True,\n",
        "    inference=True,\n",
        "    cv=10,\n",
        "    model_t=LassoCV(),\n",
        "    model_y=LassoCV(),\n",
        "    )\n",
        "\n",
        "# split data into train and test sets\n",
        "df_train, df_test = train_test_split(df, test_size=0.2)\n",
        "\n",
        "# set variables for causal forest Y=outcome, T=treatment, X=covariates, W=effect_modifiers\n",
        "\n",
        "Y_outcome = df_train['Y']\n",
        "T_treatment = df_train['X']\n",
        "X_covariates = df_train[['P', 'Q', 'S']]\n",
        "W = None\n",
        "\n",
        "X_covariates_test = df_test[['P', 'Q', 'S']]\n",
        "\n",
        "# fit train data to causal forest model\n",
        "causal_forest.fit(Y_outcome, T_treatment, X=X_covariates, W=W)\n",
        "\n",
        "# estimate the CATE with the test set\n",
        "causal_forest.const_marginal_ate(X_covariates_test)"
      ],
      "metadata": {
        "colab": {
          "base_uri": "https://localhost:8080/",
          "height": 38
        },
        "id": "bIHBjW_WaWpH",
        "outputId": "81446792-86b3-406d-d4f7-6d0112be9b49"
      },
      "execution_count": null,
      "outputs": [
        {
          "output_type": "execute_result",
          "data": {
            "text/plain": [
              "0.580112725560671"
            ],
            "text/latex": "$\\displaystyle 0.580112725560671$"
          },
          "metadata": {},
          "execution_count": 29
        }
      ]
    },
    {
      "cell_type": "code",
      "source": [
        "'''\n",
        "# calculate shap values of causal forest model\n",
        "shap_values = causal_forest.shap_values(X_covariates)\n",
        "# plot shap values\n",
        "shap.summary_plot(shap_values['Y0']['T0'])\n",
        "'''"
      ],
      "metadata": {
        "colab": {
          "base_uri": "https://localhost:8080/",
          "height": 36
        },
        "id": "lZdZVG3ZaWr4",
        "outputId": "bfb3a6b0-26e5-461c-9f52-0a2cefa137da"
      },
      "execution_count": null,
      "outputs": [
        {
          "output_type": "execute_result",
          "data": {
            "text/plain": [
              "\"\\n# calculate shap values of causal forest model \\nshap_values = causal_forest.shap_values(X_covariates)\\n# plot shap values \\nshap.summary_plot(shap_values['Y0']['T0'])\\n\""
            ],
            "application/vnd.google.colaboratory.intrinsic+json": {
              "type": "string"
            }
          },
          "metadata": {},
          "execution_count": 35
        }
      ]
    },
    {
      "cell_type": "code",
      "source": [],
      "metadata": {
        "id": "_up_yLqeaWyy"
      },
      "execution_count": null,
      "outputs": []
    },
    {
      "cell_type": "markdown",
      "source": [
        "# 6. Causal Discovery"
      ],
      "metadata": {
        "id": "NhzZWIF-Mzml"
      }
    },
    {
      "cell_type": "code",
      "source": [
        "import networkx as nx\n",
        "import matplotlib.pyplot as plt\n",
        "from collections import OrderedDict\n",
        "from castle.algorithms import PC, GES\n",
        "from castle.algorithms import ANMNonlinear, ICALiNGAM, DirectLiNGAM\n",
        "from castle.algorithms import Notears, NotearsNonlinear, GOLEM\n",
        "from castle.common import GraphDAG\n",
        "from castle.metrics import MetricsDAG"
      ],
      "metadata": {
        "id": "qEkX97l4MZ99"
      },
      "execution_count": null,
      "outputs": []
    },
    {
      "cell_type": "code",
      "source": [
        "COLORS = [\n",
        "    '#00B0F0',\n",
        "    '#FF0000',\n",
        "    '#B0F000'\n",
        "]"
      ],
      "metadata": {
        "id": "1vGGY6enecET"
      },
      "execution_count": null,
      "outputs": []
    },
    {
      "cell_type": "code",
      "source": [
        "# Instantiate the model\n",
        "pc = PC()"
      ],
      "metadata": {
        "id": "66YUfo_hMZ_-"
      },
      "execution_count": null,
      "outputs": []
    },
    {
      "cell_type": "code",
      "source": [
        "# Fit the model\n",
        "pc.learn(df)"
      ],
      "metadata": {
        "id": "vPUUdcnReJmk"
      },
      "execution_count": null,
      "outputs": []
    },
    {
      "cell_type": "code",
      "source": [
        "pred_dag = pc.causal_matrix\n",
        "pred_dag"
      ],
      "metadata": {
        "colab": {
          "base_uri": "https://localhost:8080/"
        },
        "id": "wGydxQM_eJpM",
        "outputId": "cd115a02-4d98-4464-cb05-656991a28d06"
      },
      "execution_count": null,
      "outputs": [
        {
          "output_type": "execute_result",
          "data": {
            "text/plain": [
              "Tensor([[0, 0, 0, 1, 1],\n",
              "        [0, 0, 0, 0, 0],\n",
              "        [0, 0, 0, 1, 1],\n",
              "        [0, 1, 0, 0, 1],\n",
              "        [0, 0, 0, 1, 0]])"
            ]
          },
          "metadata": {},
          "execution_count": 41
        }
      ]
    },
    {
      "cell_type": "code",
      "source": [
        "print(\"Legend:\")\n",
        "i = 0\n",
        "for column in df.columns:\n",
        "  print(f\"{column} -> col {i}\")\n",
        "  i += 1"
      ],
      "metadata": {
        "colab": {
          "base_uri": "https://localhost:8080/"
        },
        "id": "e9ptXXdnfR5-",
        "outputId": "5cfaa440-4df2-44a7-90f9-e140b43a220c"
      },
      "execution_count": null,
      "outputs": [
        {
          "output_type": "stream",
          "name": "stdout",
          "text": [
            "Legend:\n",
            "S -> col 0\n",
            "Q -> col 1\n",
            "X -> col 2\n",
            "Y -> col 3\n",
            "P -> col 4\n"
          ]
        }
      ]
    },
    {
      "cell_type": "code",
      "source": [
        "g_pred = nx.DiGraph(pred_dag)\n",
        "\n",
        "plt.figure(figsize=(12, 8))\n",
        "nx.draw(\n",
        "    G=g_pred,\n",
        "    node_color=COLORS[0],\n",
        "    node_size=1200,\n",
        "    arrowsize=17,\n",
        "    with_labels=True,\n",
        "    font_color='white',\n",
        "    font_size=21,\n",
        "    pos=nx.circular_layout(g_pred)\n",
        ")"
      ],
      "metadata": {
        "colab": {
          "base_uri": "https://localhost:8080/",
          "height": 836
        },
        "id": "vEzEmLVfeJrM",
        "outputId": "e3dea7f4-3fb9-4b32-8bb2-c380d9d6871d"
      },
      "execution_count": null,
      "outputs": [
        {
          "output_type": "display_data",
          "data": {
            "text/plain": [
              "<Figure size 1200x800 with 1 Axes>"
            ],
            "image/png": "[encoded data removed]"
          },
          "metadata": {}
        }
      ]
    },
    {
      "cell_type": "code",
      "source": [
        "# Evaluation\n",
        "#true_dag = nx.adjacency_matrix(graph_nx).todense() # WARNING -> this does not ensure the same node order\n",
        "\n",
        "# Build the True DAG adj matrix\n",
        "true_dag = np.array([\n",
        "    [0, 1, 0, 1, 0],\n",
        "    [0, 0, 1, 1, 0],\n",
        "    [0, 0, 0, 1, 1],\n",
        "    [0, 0, 0, 0, 1],\n",
        "    [0, 0, 0, 0, 0]\n",
        "])\n",
        "\n",
        "GraphDAG(\n",
        "    est_dag=pc.causal_matrix,\n",
        "    true_dag=true_dag\n",
        ")\n",
        "plt.show()"
      ],
      "metadata": {
        "colab": {
          "base_uri": "https://localhost:8080/",
          "height": 308
        },
        "id": "0q5-K0nUeJtm",
        "outputId": "cfe74ac5-cbfc-4cdf-b32f-8b66bf571162"
      },
      "execution_count": null,
      "outputs": [
        {
          "output_type": "display_data",
          "data": {
            "text/plain": [
              "<Figure size 800x300 with 4 Axes>"
            ],
            "image/png": "[encoded data removed]"
          },
          "metadata": {}
        }
      ]
    },
    {
      "cell_type": "code",
      "source": [
        "MetricsDAG(\n",
        "    B_est=pc.causal_matrix,\n",
        "    B_true=true_dag\n",
        ").metrics"
      ],
      "metadata": {
        "colab": {
          "base_uri": "https://localhost:8080/"
        },
        "id": "Y2sHxDlhhYM4",
        "outputId": "3e72309e-12c5-41a5-800f-9b45640e2aec"
      },
      "execution_count": null,
      "outputs": [
        {
          "output_type": "execute_result",
          "data": {
            "text/plain": [
              "{'fdr': 0.3333,\n",
              " 'tpr': 0.5714,\n",
              " 'fpr': 0.6667,\n",
              " 'shd': 4,\n",
              " 'nnz': 6,\n",
              " 'precision': 0.5714,\n",
              " 'recall': 0.5714,\n",
              " 'F1': 0.5714,\n",
              " 'gscore': 0.1429}"
            ]
          },
          "metadata": {},
          "execution_count": 66
        }
      ]
    },
    {
      "cell_type": "code",
      "source": [
        "true_dag"
      ],
      "metadata": {
        "colab": {
          "base_uri": "https://localhost:8080/"
        },
        "id": "EuHcOiRIhYPo",
        "outputId": "b5064899-8d4a-4133-a192-56c64f7e71bd"
      },
      "execution_count": null,
      "outputs": [
        {
          "output_type": "execute_result",
          "data": {
            "text/plain": [
              "array([[0, 1, 0, 1, 0],\n",
              "       [0, 0, 1, 1, 0],\n",
              "       [0, 0, 0, 1, 1],\n",
              "       [0, 0, 0, 0, 1],\n",
              "       [0, 0, 0, 0, 0]])"
            ]
          },
          "metadata": {},
          "execution_count": 67
        }
      ]
    },
    {
      "cell_type": "code",
      "source": [
        "# Check matrix\n",
        "\n",
        "# Get learned graph\n",
        "true_graph = nx.DiGraph(true_dag)\n",
        "\n",
        "# Relabel the nodes\n",
        "MAPPING = {k: v for k, v in zip(range(5), ['S', 'Q', 'X', 'Y', 'P'])}\n",
        "true_graph = nx.relabel_nodes(true_graph, MAPPING, copy=True)\n",
        "\n",
        "plt.figure(figsize=(7, 3))\n",
        "nx.draw(\n",
        "    G=true_graph,\n",
        "    node_color=COLORS[0],\n",
        "    node_size=1200,\n",
        "    arrowsize=17,\n",
        "    with_labels=True,\n",
        "    font_color='white',\n",
        "    font_size=21,\n",
        "    pos=nx.circular_layout(true_graph)\n",
        ")"
      ],
      "metadata": {
        "colab": {
          "base_uri": "https://localhost:8080/",
          "height": 337
        },
        "id": "JlWi0yxalQeV",
        "outputId": "0fbcb069-1301-46fc-8599-6125e7fed2b4"
      },
      "execution_count": null,
      "outputs": [
        {
          "output_type": "display_data",
          "data": {
            "text/plain": [
              "<Figure size 700x300 with 1 Axes>"
            ],
            "image/png": "[encoded data removed]"
          },
          "metadata": {}
        }
      ]
    },
    {
      "cell_type": "code",
      "source": [
        "def get_n_undirected(g):\n",
        "\n",
        "    total = 0\n",
        "\n",
        "    for i in range(g.shape[0]):\n",
        "        for j in range(g.shape[0]):\n",
        "            if (g[i, j] == 1) and (g[i, j] == g[j, i]):\n",
        "                total += .5\n",
        "\n",
        "    return total"
      ],
      "metadata": {
        "id": "5mL7L9Mwjvy1"
      },
      "execution_count": null,
      "outputs": []
    },
    {
      "cell_type": "code",
      "source": [
        "# Try several methods\n",
        "\n",
        "# Pick the methods\n",
        "methods = OrderedDict({\n",
        "    'PC': PC,\n",
        "    'GES': GES,\n",
        "    'LiNGAM': DirectLiNGAM,\n",
        "    'Notears': NotearsNonlinear,\n",
        "    'GOLEM': GOLEM\n",
        "})\n",
        "\n",
        "results = {}\n",
        "for method in methods:\n",
        "\n",
        "    print(f'Method: {method}')\n",
        "\n",
        "    # Fit the model\n",
        "    if method == 'GOLEM':\n",
        "        model = methods[method](num_iter=2.5e4)\n",
        "    else:\n",
        "        model = methods[method]()\n",
        "\n",
        "    # Fit the model\n",
        "    model.learn(df)\n",
        "\n",
        "    # Get the DAG\n",
        "    pred_dag = model.causal_matrix\n",
        "\n",
        "    # Get n undir edges\n",
        "    n_undir = get_n_undirected(pred_dag)\n",
        "\n",
        "    # Plot results\n",
        "    GraphDAG(pred_dag, true_dag, 'result')\n",
        "\n",
        "    mt = MetricsDAG(pred_dag, true_dag)\n",
        "    print(f'FDR: {mt.metrics[\"fdr\"]}')\n",
        "    print(f'Recall: {mt.metrics[\"recall\"]}')\n",
        "    print(f'Precision: {mt.metrics[\"precision\"]}')\n",
        "    print(f'F1 score: {mt.metrics[\"F1\"]}')\n",
        "    print(f'SHD score: {mt.metrics[\"shd\"]}')\n",
        "    print(f'No. of undir. edges: {n_undir}\\n')\n",
        "    print('-' * 50, '\\n')\n",
        "\n",
        "    results[method] = pred_dag\n",
        "\n",
        "print('\\n')"
      ],
      "metadata": {
        "colab": {
          "base_uri": "https://localhost:8080/",
          "height": 1000
        },
        "id": "YTgJ9LUIhYRv",
        "outputId": "163975c4-cdcc-4d55-bd80-9556d198e43f"
      },
      "execution_count": null,
      "outputs": [
        {
          "output_type": "stream",
          "name": "stdout",
          "text": [
            "Method: PC\n"
          ]
        },
        {
          "output_type": "display_data",
          "data": {
            "text/plain": [
              "<Figure size 800x300 with 4 Axes>"
            ],
            "image/png": "[encoded data removed]"
          },
          "metadata": {}
        },
        {
          "output_type": "stream",
          "name": "stdout",
          "text": [
            "FDR: 0.3333\n",
            "Recall: 0.5714\n",
            "Precision: 0.5714\n",
            "F1 score: 0.5714\n",
            "SHD score: 4\n",
            "No. of undir. edges: 1.0\n",
            "\n",
            "-------------------------------------------------- \n",
            "\n",
            "Method: GES\n"
          ]
        },
        {
          "output_type": "display_data",
          "data": {
            "text/plain": [
              "<Figure size 800x300 with 4 Axes>"
            ],
            "image/png": "[encoded data removed]"
          },
          "metadata": {}
        },
        {
          "output_type": "stream",
          "name": "stdout",
          "text": [
            "FDR: 0.2\n",
            "Recall: 0.5714\n",
            "Precision: 0.8\n",
            "F1 score: 0.6667\n",
            "SHD score: 3\n",
            "No. of undir. edges: 0\n",
            "\n",
            "-------------------------------------------------- \n",
            "\n",
            "Method: LiNGAM\n"
          ]
        },
        {
          "output_type": "display_data",
          "data": {
            "text/plain": [
              "<Figure size 800x300 with 4 Axes>"
            ],
            "image/png": "[encoded data removed]"
          },
          "metadata": {}
        },
        {
          "output_type": "stream",
          "name": "stdout",
          "text": [
            "FDR: 0.0\n",
            "Recall: 0.4286\n",
            "Precision: 1.0\n",
            "F1 score: 0.6\n",
            "SHD score: 4\n",
            "No. of undir. edges: 0\n",
            "\n",
            "-------------------------------------------------- \n",
            "\n",
            "Method: Notears\n"
          ]
        },
        {
          "output_type": "display_data",
          "data": {
            "text/plain": [
              "<Figure size 800x300 with 4 Axes>"
            ],
            "image/png": "[encoded data removed]"
          },
          "metadata": {}
        },
        {
          "output_type": "stream",
          "name": "stderr",
          "text": [
            "invalid value encountered in long_scalars\n"
          ]
        },
        {
          "output_type": "stream",
          "name": "stdout",
          "text": [
            "FDR: 0.0\n",
            "Recall: 0.0\n",
            "Precision: nan\n",
            "F1 score: nan\n",
            "SHD score: 7\n",
            "No. of undir. edges: 0\n",
            "\n",
            "-------------------------------------------------- \n",
            "\n",
            "Method: GOLEM\n"
          ]
        },
        {
          "output_type": "display_data",
          "data": {
            "text/plain": [
              "<Figure size 800x300 with 4 Axes>"
            ],
            "image/png": "[encoded data removed]"
          },
          "metadata": {}
        },
        {
          "output_type": "stream",
          "name": "stdout",
          "text": [
            "FDR: 0.8\n",
            "Recall: 0.1429\n",
            "Precision: 0.2\n",
            "F1 score: 0.1667\n",
            "SHD score: 7\n",
            "No. of undir. edges: 0\n",
            "\n",
            "-------------------------------------------------- \n",
            "\n",
            "\n",
            "\n"
          ]
        }
      ]
    },
    {
      "cell_type": "code",
      "source": [
        "df"
      ],
      "metadata": {
        "colab": {
          "base_uri": "https://localhost:8080/",
          "height": 423
        },
        "id": "t5u32jQXhYUS",
        "outputId": "ef6c4244-12b7-4f88-8c68-4f1d2efb4f70"
      },
      "execution_count": null,
      "outputs": [
        {
          "output_type": "execute_result",
          "data": {
            "text/plain": [
              "            S         Q         X         Y         P\n",
              "0    0.548814  0.506992  0.395586  0.607651  0.362090\n",
              "1    0.715189  0.149781  0.211403  0.544427  0.329867\n",
              "2    0.602763  0.439356  0.270772  0.617614  0.276362\n",
              "3    0.544883  0.583853  0.181948  0.570324  0.274942\n",
              "4    0.423655  0.114194  0.258004  0.524673  0.232831\n",
              "..        ...       ...       ...       ...       ...\n",
              "995  0.097676  0.549694  0.453632  0.493179  0.346624\n",
              "996  0.514922  0.586187  0.300519  0.543989  0.295261\n",
              "997  0.938412  0.509355  0.200755  0.696050  0.275921\n",
              "998  0.228647  0.477118  0.392215  0.624074  0.387419\n",
              "999  0.677141  0.471616  0.344986  0.584055  0.481886\n",
              "\n",
              "[1000 rows x 5 columns]"
            ],
            "text/html": [
              "\n",
              "  <div id=\"df-772d55a0-938d-45b1-ae03-3d86433bf8eb\" class=\"colab-df-container\">\n",
              "    <div>\n",
              "<style scoped>\n",
              "    .dataframe tbody tr th:only-of-type {\n",
              "        vertical-align: middle;\n",
              "    }\n",
              "\n",
              "    .dataframe tbody tr th {\n",
              "        vertical-align: top;\n",
              "    }\n",
              "\n",
              "    .dataframe thead th {\n",
              "        text-align: right;\n",
              "    }\n",
              "</style>\n",
              "<table border=\"1\" class=\"dataframe\">\n",
              "  <thead>\n",
              "    <tr style=\"text-align: right;\">\n",
              "      <th></th>\n",
              "      <th>S</th>\n",
              "      <th>Q</th>\n",
              "      <th>X</th>\n",
              "      <th>Y</th>\n",
              "      <th>P</th>\n",
              "    </tr>\n",
              "  </thead>\n",
              "  <tbody>\n",
              "    <tr>\n",
              "      <th>0</th>\n",
              "      <td>0.548814</td>\n",
              "      <td>0.506992</td>\n",
              "      <td>0.395586</td>\n",
              "      <td>0.607651</td>\n",
              "      <td>0.362090</td>\n",
              "    </tr>\n",
              "    <tr>\n",
              "      <th>1</th>\n",
              "      <td>0.715189</td>\n",
              "      <td>0.149781</td>\n",
              "      <td>0.211403</td>\n",
              "      <td>0.544427</td>\n",
              "      <td>0.329867</td>\n",
              "    </tr>\n",
              "    <tr>\n",
              "      <th>2</th>\n",
              "      <td>0.602763</td>\n",
              "      <td>0.439356</td>\n",
              "      <td>0.270772</td>\n",
              "      <td>0.617614</td>\n",
              "      <td>0.276362</td>\n",
              "    </tr>\n",
              "    <tr>\n",
              "      <th>3</th>\n",
              "      <td>0.544883</td>\n",
              "      <td>0.583853</td>\n",
              "      <td>0.181948</td>\n",
              "      <td>0.570324</td>\n",
              "      <td>0.274942</td>\n",
              "    </tr>\n",
              "    <tr>\n",
              "      <th>4</th>\n",
              "      <td>0.423655</td>\n",
              "      <td>0.114194</td>\n",
              "      <td>0.258004</td>\n",
              "      <td>0.524673</td>\n",
              "      <td>0.232831</td>\n",
              "    </tr>\n",
              "    <tr>\n",
              "      <th>...</th>\n",
              "      <td>...</td>\n",
              "      <td>...</td>\n",
              "      <td>...</td>\n",
              "      <td>...</td>\n",
              "      <td>...</td>\n",
              "    </tr>\n",
              "    <tr>\n",
              "      <th>995</th>\n",
              "      <td>0.097676</td>\n",
              "      <td>0.549694</td>\n",
              "      <td>0.453632</td>\n",
              "      <td>0.493179</td>\n",
              "      <td>0.346624</td>\n",
              "    </tr>\n",
              "    <tr>\n",
              "      <th>996</th>\n",
              "      <td>0.514922</td>\n",
              "      <td>0.586187</td>\n",
              "      <td>0.300519</td>\n",
              "      <td>0.543989</td>\n",
              "      <td>0.295261</td>\n",
              "    </tr>\n",
              "    <tr>\n",
              "      <th>997</th>\n",
              "      <td>0.938412</td>\n",
              "      <td>0.509355</td>\n",
              "      <td>0.200755</td>\n",
              "      <td>0.696050</td>\n",
              "      <td>0.275921</td>\n",
              "    </tr>\n",
              "    <tr>\n",
              "      <th>998</th>\n",
              "      <td>0.228647</td>\n",
              "      <td>0.477118</td>\n",
              "      <td>0.392215</td>\n",
              "      <td>0.624074</td>\n",
              "      <td>0.387419</td>\n",
              "    </tr>\n",
              "    <tr>\n",
              "      <th>999</th>\n",
              "      <td>0.677141</td>\n",
              "      <td>0.471616</td>\n",
              "      <td>0.344986</td>\n",
              "      <td>0.584055</td>\n",
              "      <td>0.481886</td>\n",
              "    </tr>\n",
              "  </tbody>\n",
              "</table>\n",
              "<p>1000 rows × 5 columns</p>\n",
              "</div>\n",
              "    <div class=\"colab-df-buttons\">\n",
              "\n",
              "  <div class=\"colab-df-container\">\n",
              "    <button class=\"colab-df-convert\" onclick=\"convertToInteractive('df-772d55a0-938d-45b1-ae03-3d86433bf8eb')\"\n",
              "            title=\"Convert this dataframe to an interactive table.\"\n",
              "            style=\"display:none;\">\n",
              "\n",
              "  <svg xmlns=\"http://www.w3.org/2000/svg\" height=\"24px\" viewBox=\"0 -960 960 960\">\n",
              "    <path d=\"M120-120v-720h720v720H120Zm60-500h600v-160H180v160Zm220 220h160v-160H400v160Zm0 220h160v-160H400v160ZM180-400h160v-160H180v160Zm440 0h160v-160H620v160ZM180-180h160v-160H180v160Zm440 0h160v-160H620v160Z\"/>\n",
              "  </svg>\n",
              "    </button>\n",
              "\n",
              "  <style>\n",
              "    .colab-df-container {\n",
              "      display:flex;\n",
              "      gap: 12px;\n",
              "    }\n",
              "\n",
              "    .colab-df-convert {\n",
              "      background-color: #E8F0FE;\n",
              "      border: none;\n",
              "      border-radius: 50%;\n",
              "      cursor: pointer;\n",
              "      display: none;\n",
              "      fill: #1967D2;\n",
              "      height: 32px;\n",
              "      padding: 0 0 0 0;\n",
              "      width: 32px;\n",
              "    }\n",
              "\n",
              "    .colab-df-convert:hover {\n",
              "      background-color: #E2EBFA;\n",
              "      box-shadow: 0px 1px 2px rgba(60, 64, 67, 0.3), 0px 1px 3px 1px rgba(60, 64, 67, 0.15);\n",
              "      fill: #174EA6;\n",
              "    }\n",
              "\n",
              "    .colab-df-buttons div {\n",
              "      margin-bottom: 4px;\n",
              "    }\n",
              "\n",
              "    [theme=dark] .colab-df-convert {\n",
              "      background-color: #3B4455;\n",
              "      fill: #D2E3FC;\n",
              "    }\n",
              "\n",
              "    [theme=dark] .colab-df-convert:hover {\n",
              "      background-color: #434B5C;\n",
              "      box-shadow: 0px 1px 3px 1px rgba(0, 0, 0, 0.15);\n",
              "      filter: drop-shadow(0px 1px 2px rgba(0, 0, 0, 0.3));\n",
              "      fill: #FFFFFF;\n",
              "    }\n",
              "  </style>\n",
              "\n",
              "    <script>\n",
              "      const buttonEl =\n",
              "        document.querySelector('#df-772d55a0-938d-45b1-ae03-3d86433bf8eb button.colab-df-convert');\n",
              "      buttonEl.style.display =\n",
              "        google.colab.kernel.accessAllowed ? 'block' : 'none';\n",
              "\n",
              "      async function convertToInteractive(key) {\n",
              "        const element = document.querySelector('#df-772d55a0-938d-45b1-ae03-3d86433bf8eb');\n",
              "        const dataTable =\n",
              "          await google.colab.kernel.invokeFunction('convertToInteractive',\n",
              "                                                    [key], {});\n",
              "        if (!dataTable) return;\n",
              "\n",
              "        const docLinkHtml = 'Like what you see? Visit the ' +\n",
              "          '<a target=\"_blank\" href=https://colab.research.google.com/notebooks/data_table.ipynb>data table notebook</a>'\n",
              "          + ' to learn more about interactive tables.';\n",
              "        element.innerHTML = '';\n",
              "        dataTable['output_type'] = 'display_data';\n",
              "        await google.colab.output.renderOutput(dataTable, element);\n",
              "        const docLink = document.createElement('div');\n",
              "        docLink.innerHTML = docLinkHtml;\n",
              "        element.appendChild(docLink);\n",
              "      }\n",
              "    </script>\n",
              "  </div>\n",
              "\n",
              "\n",
              "<div id=\"df-52aa52c5-3c82-440c-810e-4214d39ba236\">\n",
              "  <button class=\"colab-df-quickchart\" onclick=\"quickchart('df-52aa52c5-3c82-440c-810e-4214d39ba236')\"\n",
              "            title=\"Suggest charts\"\n",
              "            style=\"display:none;\">\n",
              "\n",
              "<svg xmlns=\"http://www.w3.org/2000/svg\" height=\"24px\"viewBox=\"0 0 24 24\"\n",
              "     width=\"24px\">\n",
              "    <g>\n",
              "        <path d=\"M19 3H5c-1.1 0-2 .9-2 2v14c0 1.1.9 2 2 2h14c1.1 0 2-.9 2-2V5c0-1.1-.9-2-2-2zM9 17H7v-7h2v7zm4 0h-2V7h2v10zm4 0h-2v-4h2v4z\"/>\n",
              "    </g>\n",
              "</svg>\n",
              "  </button>\n",
              "\n",
              "<style>\n",
              "  .colab-df-quickchart {\n",
              "      --bg-color: #E8F0FE;\n",
              "      --fill-color: #1967D2;\n",
              "      --hover-bg-color: #E2EBFA;\n",
              "      --hover-fill-color: #174EA6;\n",
              "      --disabled-fill-color: #AAA;\n",
              "      --disabled-bg-color: #DDD;\n",
              "  }\n",
              "\n",
              "  [theme=dark] .colab-df-quickchart {\n",
              "      --bg-color: #3B4455;\n",
              "      --fill-color: #D2E3FC;\n",
              "      --hover-bg-color: #434B5C;\n",
              "      --hover-fill-color: #FFFFFF;\n",
              "      --disabled-bg-color: #3B4455;\n",
              "      --disabled-fill-color: #666;\n",
              "  }\n",
              "\n",
              "  .colab-df-quickchart {\n",
              "    background-color: var(--bg-color);\n",
              "    border: none;\n",
              "    border-radius: 50%;\n",
              "    cursor: pointer;\n",
              "    display: none;\n",
              "    fill: var(--fill-color);\n",
              "    height: 32px;\n",
              "    padding: 0;\n",
              "    width: 32px;\n",
              "  }\n",
              "\n",
              "  .colab-df-quickchart:hover {\n",
              "    background-color: var(--hover-bg-color);\n",
              "    box-shadow: 0 1px 2px rgba(60, 64, 67, 0.3), 0 1px 3px 1px rgba(60, 64, 67, 0.15);\n",
              "    fill: var(--button-hover-fill-color);\n",
              "  }\n",
              "\n",
              "  .colab-df-quickchart-complete:disabled,\n",
              "  .colab-df-quickchart-complete:disabled:hover {\n",
              "    background-color: var(--disabled-bg-color);\n",
              "    fill: var(--disabled-fill-color);\n",
              "    box-shadow: none;\n",
              "  }\n",
              "\n",
              "  .colab-df-spinner {\n",
              "    border: 2px solid var(--fill-color);\n",
              "    border-color: transparent;\n",
              "    border-bottom-color: var(--fill-color);\n",
              "    animation:\n",
              "      spin 1s steps(1) infinite;\n",
              "  }\n",
              "\n",
              "  @keyframes spin {\n",
              "    0% {\n",
              "      border-color: transparent;\n",
              "      border-bottom-color: var(--fill-color);\n",
              "      border-left-color: var(--fill-color);\n",
              "    }\n",
              "    20% {\n",
              "      border-color: transparent;\n",
              "      border-left-color: var(--fill-color);\n",
              "      border-top-color: var(--fill-color);\n",
              "    }\n",
              "    30% {\n",
              "      border-color: transparent;\n",
              "      border-left-color: var(--fill-color);\n",
              "      border-top-color: var(--fill-color);\n",
              "      border-right-color: var(--fill-color);\n",
              "    }\n",
              "    40% {\n",
              "      border-color: transparent;\n",
              "      border-right-color: var(--fill-color);\n",
              "      border-top-color: var(--fill-color);\n",
              "    }\n",
              "    60% {\n",
              "      border-color: transparent;\n",
              "      border-right-color: var(--fill-color);\n",
              "    }\n",
              "    80% {\n",
              "      border-color: transparent;\n",
              "      border-right-color: var(--fill-color);\n",
              "      border-bottom-color: var(--fill-color);\n",
              "    }\n",
              "    90% {\n",
              "      border-color: transparent;\n",
              "      border-bottom-color: var(--fill-color);\n",
              "    }\n",
              "  }\n",
              "</style>\n",
              "\n",
              "  <script>\n",
              "    async function quickchart(key) {\n",
              "      const quickchartButtonEl =\n",
              "        document.querySelector('#' + key + ' button');\n",
              "      quickchartButtonEl.disabled = true;  // To prevent multiple clicks.\n",
              "      quickchartButtonEl.classList.add('colab-df-spinner');\n",
              "      try {\n",
              "        const charts = await google.colab.kernel.invokeFunction(\n",
              "            'suggestCharts', [key], {});\n",
              "      } catch (error) {\n",
              "        console.error('Error during call to suggestCharts:', error);\n",
              "      }\n",
              "      quickchartButtonEl.classList.remove('colab-df-spinner');\n",
              "      quickchartButtonEl.classList.add('colab-df-quickchart-complete');\n",
              "    }\n",
              "    (() => {\n",
              "      let quickchartButtonEl =\n",
              "        document.querySelector('#df-52aa52c5-3c82-440c-810e-4214d39ba236 button');\n",
              "      quickchartButtonEl.style.display =\n",
              "        google.colab.kernel.accessAllowed ? 'block' : 'none';\n",
              "    })();\n",
              "  </script>\n",
              "</div>\n",
              "    </div>\n",
              "  </div>\n"
            ]
          },
          "metadata": {},
          "execution_count": 72
        }
      ]
    },
    {
      "cell_type": "code",
      "source": [],
      "metadata": {
        "id": "mASpDBHihYWP"
      },
      "execution_count": null,
      "outputs": []
    },
    {
      "cell_type": "code",
      "source": [],
      "metadata": {
        "id": "R2Qu9-gdhYY4"
      },
      "execution_count": null,
      "outputs": []
    }
  ]
}